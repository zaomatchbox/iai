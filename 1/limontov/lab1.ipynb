{
 "cells": [
  {
   "cell_type": "code",
   "execution_count": 1,
   "metadata": {
    "collapsed": true
   },
   "outputs": [],
   "source": [
    "import numpy as np\n",
    "import random\n",
    "from PIL import Image\n",
    "from matplotlib.pyplot import imshow\n",
    "from functools import partial\n",
    "from tqdm import tqdm\n",
    "import matplotlib.pyplot as plt\n",
    "from os import walk\n",
    "from itertools import tee\n",
    "\n",
    "%matplotlib inline"
   ]
  },
  {
   "cell_type": "markdown",
   "metadata": {},
   "source": [
    "Указываем глобальные переменные:\n",
    "- `SEED`: для случайных генераторов с целью воспроизводимости\n",
    "- `MODE`: режим работы с картинкой **RGB**/**L** - цветной/черно-белый\n",
    "- `S`: количество аргументов на пиксель (**3** - для цветного изображения, **1** - для черно-белого)\n",
    "- `IMG_PATH`: путь к обрабатываемому изображению"
   ]
  },
  {
   "cell_type": "code",
   "execution_count": 2,
   "metadata": {
    "collapsed": true
   },
   "outputs": [],
   "source": [
    "SEED = 342323425\n",
    "np.random.seed(SEED)\n",
    "MODE = 'L'\n",
    "S = 1\n",
    "IMG_PATH = './rsz_pic3.jpg'"
   ]
  },
  {
   "cell_type": "markdown",
   "metadata": {},
   "source": [
    "Метод загрузки картинки и преобразования в необходимый режим и размер"
   ]
  },
  {
   "cell_type": "code",
   "execution_count": 3,
   "metadata": {
    "collapsed": true
   },
   "outputs": [],
   "source": [
    "def load_image(path):\n",
    "    img = Image.open(path)\n",
    "    img = img.resize((128, 128))\n",
    "    return img.convert(MODE)"
   ]
  },
  {
   "cell_type": "code",
   "execution_count": 4,
   "metadata": {},
   "outputs": [
    {
     "data": {
      "image/png": "[encoded data removed]",
      "text/plain": [
       "<PIL.Image.Image image mode=L size=128x128 at 0x10A9EE190>"
      ]
     },
     "execution_count": 4,
     "metadata": {},
     "output_type": "execute_result"
    }
   ],
   "source": [
    "load_image(IMG_PATH)"
   ]
  },
  {
   "cell_type": "markdown",
   "metadata": {},
   "source": [
    "Инициализация гиперпараметров: \n",
    "- `W`: ширина картинки\n",
    "- `H`: высота картинки\n",
    "- `n`: размер выреза (длина)\n",
    "- `m`: размер выреза (ширина)\n",
    "- `L`: количество нарезанных блоков\n",
    "- `N`: размер вектора, конвертируемого из нарезанного блока"
   ]
  },
  {
   "cell_type": "code",
   "execution_count": 5,
   "metadata": {},
   "outputs": [
    {
     "name": "stdout",
     "output_type": "stream",
     "text": [
      "128 128 64 256 1\n"
     ]
    }
   ],
   "source": [
    "def init_hyperparams(im):\n",
    "    W, H = im.size\n",
    "    n, m = 16, 16\n",
    "    L = H / n * W / m\n",
    "    N = n * m * S\n",
    "    return W, H, n, m, L, N, S\n",
    "\n",
    "pic = load_image(IMG_PATH)\n",
    "W, H, n, m, L, N, S = init_hyperparams(pic)\n",
    "print W, H, L, N, S\n",
    "# imshow(pic)"
   ]
  },
  {
   "cell_type": "markdown",
   "metadata": {},
   "source": [
    "Методы преобразования картинки, генераторы нарезаемых блоков. Картинка равномерно нарезается на блоки последовательно слева-направо и сверху-вниз на размеры nxm. При декодировании следует помнить о том, что в результате должны получиться\n",
    "- целый знчения\n",
    "- числа в пределах $[0..255]$\n",
    "\n",
    "Поэтому делается `np.clip(np.int_(C_MAX * (area + 1.0) / 2.0), 0, 255)`"
   ]
  },
  {
   "cell_type": "code",
   "execution_count": 6,
   "metadata": {
    "collapsed": true
   },
   "outputs": [],
   "source": [
    "def encode_pixel(P):\n",
    "    C_MAX = 255.0\n",
    "    P = np.array(P)\n",
    "    return (2.0 * P / C_MAX) - 1.0\n",
    "\n",
    "def encode_area(im, lu_corner, rb_corner):\n",
    "    X0, Y0 = lu_corner\n",
    "    X1, Y1 = rb_corner\n",
    "    \n",
    "    def transform(x, y):\n",
    "        return encode_pixel(im.getpixel((x, y)))\n",
    "    \n",
    "    q = []\n",
    "    for x in range(X0, X1 + 1):\n",
    "        for y in range(Y0, Y1 + 1):\n",
    "            q.append(transform(x, y))\n",
    "    return np.array(q).flatten()\n",
    "\n",
    "def decode_area(area):\n",
    "    C_MAX = 255.0\n",
    "    res = np.clip(np.int_(C_MAX * (area + 1.0) / 2.0), 0, 255)\n",
    "    return res\n",
    "\n",
    "def decode_image(areas):\n",
    "    if S == 1:\n",
    "        im_area = np.empty((H, W))\n",
    "    else:\n",
    "        im_area = np.empty((H, W, S))\n",
    "    for i in range(H):\n",
    "        for j in range(W):\n",
    "            ii = i / n\n",
    "            jj = j / m\n",
    "            idx = ii * (W / m) + jj\n",
    "            im_area[j][i] = decode_area(areas[idx][0][(i % n) * m + j % m:(i % n) * m + j % m + S])\n",
    "    return Image.fromarray(im_area.astype('uint8'), mode=MODE)\n",
    "\n",
    "def transform_random_image(im, n, m):\n",
    "    \n",
    "    def transform(i, j):\n",
    "        lu = (i, j)\n",
    "        rb = (i + n - 1, j + m - 1)\n",
    "        return encode_area(im, lu, rb)\n",
    "    \n",
    "    while True:\n",
    "        i = np.random.randint(im.height - n)\n",
    "        j = np.random.randint(im.width - m)\n",
    "        X = transform(i, j)\n",
    "        yield X.reshape(1, len(X))\n",
    "        \n",
    "\n",
    "def transform_image(im, n, m):\n",
    "    \n",
    "    def transform(i, j):\n",
    "        lu = (i, j)\n",
    "        rb = (i + n - 1, j + m - 1)\n",
    "        return encode_area(im, lu, rb)\n",
    "    \n",
    "    for i in range(0, im.height, n):\n",
    "        for j in range(0, im.width, m):\n",
    "            X = transform(i, j)\n",
    "            yield X.reshape(1, len(X))"
   ]
  },
  {
   "cell_type": "markdown",
   "metadata": {},
   "source": [
    "Подсчет коэффициента сжатия"
   ]
  },
  {
   "cell_type": "code",
   "execution_count": 7,
   "metadata": {
    "collapsed": true
   },
   "outputs": [],
   "source": [
    "def get_Z(N, L, p):\n",
    "    return ((N + L) * p + 2.0) / (N * L)"
   ]
  },
  {
   "cell_type": "code",
   "execution_count": null,
   "metadata": {
    "collapsed": true
   },
   "outputs": [],
   "source": []
  },
  {
   "cell_type": "markdown",
   "metadata": {},
   "source": [
    "Логика автокодировщика. Здесь используется метод инициализации весов `glorot_uniform` (https://keras.io/initializers/#glorot_uniform and http://proceedings.mlr.press/v9/glorot10a/glorot10a.pdf). На вход можно подавать следующие параметры:\n",
    "- `input_layers`: количество нейронов на входном слое (равно размеру вектора, вычисляемого из нарезанного блока)\n",
    "- `lr`: learning rate\n",
    "- `dynamic_lr`: флаг, отвечающий за динамический пересчет learning rate после каждой итерации, либо использовать переданное значение \n",
    "- `z`: коэффициент сжатия. Из него вычисляется количество нейронов на втором слое (`int(z * input_layers)`)\n",
    "- `w_norm`: флаг, отвечающий за нормировку весов после каждой итерации\n",
    "\n",
    "Вызов автокодировщика прогоняет все блоки картинки (выполняет одну эпоху). Каждую эпоху насчитывается суммарная ошибка на всех обработанных блоках."
   ]
  },
  {
   "cell_type": "code",
   "execution_count": 9,
   "metadata": {
    "collapsed": true
   },
   "outputs": [],
   "source": [
    "def glorot_uniform(input_layers, output_layers):\n",
    "    limit = np.sqrt(6.0 / (input_layers + output_layers))\n",
    "    return partial(np.random.uniform, low=-limit, high=limit)\n",
    "\n",
    "class Autoencoder(object):\n",
    "    def __init__(self, input_layers=1000, lr=1e-2, dynamic_lr=True, z=0.9, w_norm=True):\n",
    "        self.input_layers = input_layers\n",
    "        self.mid_layers = int(z * input_layers)\n",
    "        self.initializer = glorot_uniform(self.input_layers, self.mid_layers)\n",
    "        self.lr = lr\n",
    "        self.w_norm = w_norm\n",
    "        self.dynamic_lr = dynamic_lr\n",
    "        self.build()\n",
    "        \n",
    "    def error(self, err):\n",
    "        return err**2\n",
    "    \n",
    "    def build(self):\n",
    "        self.W1 = self.initializer(size=[self.input_layers, self.mid_layers])\n",
    "        self.W2 = self.W1.T\n",
    "    \n",
    "    def __call__(self, gen, pbar=None):\n",
    "        err = 0.0\n",
    "        for inp in gen:\n",
    "            mid, res = self.forward(inp)\n",
    "            diff = res - inp\n",
    "            err += self.error(diff).sum()\n",
    "            self.backward(inp, mid, diff)\n",
    "            if pbar:\n",
    "                pbar.update(1)\n",
    "        return err\n",
    "    \n",
    "    def forward(self, inp):\n",
    "        mid = self.encode(inp, self.W1)\n",
    "        return mid, self.decode(mid, self.W2)\n",
    "    \n",
    "    def backward(self, inp, mid, err):\n",
    "        lr = self.lr\n",
    "        if self.dynamic_lr:\n",
    "            lr = 1.0 / np.dot(inp, inp.T)\n",
    "        self.W1 -= lr * np.dot(np.dot(inp.T, err), self.W2.T)\n",
    "        if self.dynamic_lr:\n",
    "            lr = 1.0 / np.dot(mid, mid.T)\n",
    "        self.W2 -= lr * np.dot(mid.T, err)\n",
    "        \n",
    "        if self.w_norm:\n",
    "            self.W2 /= np.linalg.norm(self.W2, axis=0, keepdims=True)\n",
    "            self.W1 /= np.linalg.norm(self.W1, axis=1, keepdims=True)\n",
    "\n",
    "    def encode(self, inp, W1):\n",
    "        return np.dot(inp, W1)\n",
    "    \n",
    "    def decode(self, mid, W2):\n",
    "        return np.dot(mid, W2)"
   ]
  },
  {
   "cell_type": "markdown",
   "metadata": {},
   "source": [
    "Метод для запуска обучения для выбранной модели. Контролируются следующие параметры:\n",
    "- `model`: настроенная модель\n",
    "- `epochs`: ограничение сверху на количество запускаемых эпох\n",
    "- `name`: используется для отрисовки названия графика \"Количество эпох на ошибку\"\n",
    "- `th_err`: пороговое значение для ошибки\n",
    "- `viz`: флаг, нужно ли рисовать график\n",
    "- `ax`: переданный объект plot, на котором нужно рисовать график (следует передать `viz=True`)\n",
    "- `gen`: генератор для блоков. По умолчанию генерируются блоки из стандартной картинки размера `n x m`\n",
    "- `progress`: progress bar для визуализации прогресса\n",
    "- `L`: количество блоков (используется для progress bar по умолчанию)\n",
    "\n",
    "Критерий останова: ошибка меньше пороговой либо количество запущенных эпох достигло значения `epochs`. В результат сохраняется следующая информация:\n",
    "\n",
    "- `W1`, `W2`: веса на первом и втором слое соответственно\n",
    "- `min_err`: минимальная достигнутая ошибка\n",
    "- `epoch`: количество прошедших эпох (может быть меньше, чем `epochs`, если была получена ошибка меньше заявленной пороговой, но не может быть больше `epochs`)"
   ]
  },
  {
   "cell_type": "code",
   "execution_count": 10,
   "metadata": {
    "collapsed": true
   },
   "outputs": [],
   "source": [
    "def try_run(model, epochs, name='', th_err=0.1, viz=True, ax=None, gen=None, progress=True, L=L):\n",
    "    np.random.seed(SEED)\n",
    "    errors = []\n",
    "    if gen is None:\n",
    "        im = load_image(IMG_PATH)\n",
    "        gen = transform_image(im, n, m)\n",
    "    gens = tee(gen, epochs)\n",
    "    best_results = {\n",
    "        'W1': None,\n",
    "        'W2': None,\n",
    "        'min_err': np.inf,\n",
    "        'epoch': epochs,\n",
    "    }\n",
    "\n",
    "    def run_iters(pbar=None):\n",
    "        epoch_run = 0\n",
    "        err = np.inf\n",
    "        min_err = np.inf\n",
    "        cur_gen = 0\n",
    "        while epoch_run < epochs and err > th_err:\n",
    "            t_gen = gens[cur_gen]\n",
    "            cur_gen += 1\n",
    "            errors.append(model(t_gen, pbar))\n",
    "            if errors[-1] < min_err:\n",
    "                best_results['min_err'] = errors[-1]\n",
    "                best_results['W1'] = model.W1\n",
    "                best_results['W2'] = model.W2\n",
    "                min_err = errors[-1]\n",
    "            err = errors[-1]\n",
    "            epoch_run += 1\n",
    "\n",
    "        best_results['epoch'] = epoch_run\n",
    "\n",
    "    if progress:\n",
    "        with tqdm(total=epochs*L) as pbar:\n",
    "            run_iters(pbar)\n",
    "    else:\n",
    "        run_iters()\n",
    "    \n",
    "    if viz:\n",
    "        epoch = best_results['epoch']\n",
    "        x = np.arange(epoch)\n",
    "        idx = np.argmin(errors)\n",
    "        print(\"BEST ERROR {} at {}\".format(errors[idx], idx))\n",
    "        \n",
    "        if ax is None:\n",
    "            plt.plot(x, np.array(errors))\n",
    "            plt.title(name)\n",
    "            plt.plot(x[idx], errors[idx], 'rx--', linewidth=2, markersize=12)\n",
    "            plt.show()\n",
    "        else:\n",
    "            ax.plot(x, np.array(errors))\n",
    "            ax.set_title(name)\n",
    "            ax.plot(x[idx], errors[idx], 'rx--', linewidth=2, markersize=12)\n",
    "    return best_results\n",
    "    \n",
    "def viz_encode(model, best_results, path=IMG_PATH):\n",
    "    W1 = best_results['W1']\n",
    "    W2 = best_results['W2']\n",
    "    min_err = best_results['min_err']\n",
    "    epoch = best_results['epoch']\n",
    "    \n",
    "    print 'Showing results for min_err={}. Epoch run: {}'.format(min_err, epoch)\n",
    "    areas = []\n",
    "    im = load_image(path)\n",
    "    for area in transform_image(im, n, m):\n",
    "        areas.append(model.decode(model.encode(area, W1), W2))\n",
    "    areas = np.array(areas)\n",
    "    new_pic = decode_image(areas)\n",
    "    return new_pic"
   ]
  },
  {
   "cell_type": "code",
   "execution_count": null,
   "metadata": {},
   "outputs": [],
   "source": []
  },
  {
   "cell_type": "markdown",
   "metadata": {},
   "source": [
    "Зависимость количества эпох от коэффициента сжатия `Z`. Фиксированные параметры:\n",
    "- `th_err`: 10.0\n",
    "- `epochs`: 3000\n",
    "- `dynamic_lr`: True"
   ]
  },
  {
   "cell_type": "code",
   "execution_count": 145,
   "metadata": {},
   "outputs": [
    {
     "name": "stderr",
     "output_type": "stream",
     "text": [
      "  0%|          | 28/192000 [00:00<11:42, 273.16it/s]"
     ]
    },
    {
     "name": "stdout",
     "output_type": "stream",
     "text": [
      "running for z=0.95\n"
     ]
    },
    {
     "name": "stderr",
     "output_type": "stream",
     "text": [
      " 33%|███▎      | 64000/192000 [01:46<03:33, 599.11it/s]\n",
      "  0%|          | 42/192000 [00:00<07:45, 412.19it/s]"
     ]
    },
    {
     "name": "stdout",
     "output_type": "stream",
     "text": [
      "Error: 9.99581898821\n",
      "running for z=0.902631578947\n"
     ]
    },
    {
     "name": "stderr",
     "output_type": "stream",
     "text": [
      " 37%|███▋      | 70208/192000 [01:50<03:11, 636.91it/s]\n",
      "  0%|          | 41/192000 [00:00<07:52, 406.30it/s]"
     ]
    },
    {
     "name": "stdout",
     "output_type": "stream",
     "text": [
      "Error: 9.99524955959\n",
      "running for z=0.855263157895\n"
     ]
    },
    {
     "name": "stderr",
     "output_type": "stream",
     "text": [
      " 39%|███▊      | 74368/192000 [01:52<02:57, 662.62it/s]\n",
      "  0%|          | 41/192000 [00:00<08:01, 399.00it/s]"
     ]
    },
    {
     "name": "stdout",
     "output_type": "stream",
     "text": [
      "Error: 9.997741394\n",
      "running for z=0.807894736842\n"
     ]
    },
    {
     "name": "stderr",
     "output_type": "stream",
     "text": [
      " 42%|████▏     | 80192/192000 [01:55<02:41, 693.99it/s]\n",
      "  0%|          | 41/192000 [00:00<07:54, 404.51it/s]"
     ]
    },
    {
     "name": "stdout",
     "output_type": "stream",
     "text": [
      "Error: 9.99297610888\n",
      "running for z=0.760526315789\n"
     ]
    },
    {
     "name": "stderr",
     "output_type": "stream",
     "text": [
      " 47%|████▋     | 90176/192000 [02:00<02:15, 750.90it/s]\n",
      "  0%|          | 47/192000 [00:00<06:49, 468.57it/s]"
     ]
    },
    {
     "name": "stdout",
     "output_type": "stream",
     "text": [
      "Error: 9.99848330214\n",
      "running for z=0.713157894737\n"
     ]
    },
    {
     "name": "stderr",
     "output_type": "stream",
     "text": [
      " 52%|█████▏    | 99968/192000 [02:22<02:11, 701.81it/s]\n",
      "  0%|          | 30/192000 [00:00<10:50, 295.21it/s]"
     ]
    },
    {
     "name": "stdout",
     "output_type": "stream",
     "text": [
      "Error: 9.99799888912\n",
      "running for z=0.665789473684\n"
     ]
    },
    {
     "name": "stderr",
     "output_type": "stream",
     "text": [
      " 55%|█████▌    | 106048/192000 [02:31<02:03, 698.29it/s]\n",
      "  0%|          | 51/192000 [00:00<06:24, 499.44it/s]"
     ]
    },
    {
     "name": "stdout",
     "output_type": "stream",
     "text": [
      "Error: 9.99838696999\n",
      "running for z=0.618421052632\n"
     ]
    },
    {
     "name": "stderr",
     "output_type": "stream",
     "text": [
      " 63%|██████▎   | 120768/192000 [02:34<01:31, 780.29it/s]\n",
      "  0%|          | 49/192000 [00:00<06:36, 484.72it/s]"
     ]
    },
    {
     "name": "stdout",
     "output_type": "stream",
     "text": [
      "Error: 9.99645728677\n",
      "running for z=0.571052631579\n"
     ]
    },
    {
     "name": "stderr",
     "output_type": "stream",
     "text": [
      " 77%|███████▋  | 148480/192000 [03:04<00:54, 803.72it/s]\n",
      "  0%|          | 44/192000 [00:00<07:19, 437.16it/s]"
     ]
    },
    {
     "name": "stdout",
     "output_type": "stream",
     "text": [
      "Error: 9.998165406\n",
      "running for z=0.523684210526\n"
     ]
    },
    {
     "name": "stderr",
     "output_type": "stream",
     "text": [
      " 88%|████████▊ | 168704/192000 [03:03<00:25, 919.77it/s] \n",
      "  0%|          | 46/192000 [00:00<07:02, 453.84it/s]"
     ]
    },
    {
     "name": "stdout",
     "output_type": "stream",
     "text": [
      "Error: 9.99831311216\n",
      "running for z=0.476315789474\n"
     ]
    },
    {
     "name": "stderr",
     "output_type": "stream",
     "text": [
      "100%|██████████| 192000/192000 [03:18<00:00, 966.86it/s] \n",
      "  0%|          | 58/192000 [00:00<05:36, 570.69it/s]"
     ]
    },
    {
     "name": "stdout",
     "output_type": "stream",
     "text": [
      "Error: 11.5749577847\n",
      "running for z=0.428947368421\n"
     ]
    },
    {
     "name": "stderr",
     "output_type": "stream",
     "text": [
      "100%|██████████| 192000/192000 [02:55<00:00, 1091.11it/s]\n",
      "  0%|          | 49/192000 [00:00<06:33, 487.27it/s]"
     ]
    },
    {
     "name": "stdout",
     "output_type": "stream",
     "text": [
      "Error: 14.366996714\n",
      "running for z=0.381578947368\n"
     ]
    },
    {
     "name": "stderr",
     "output_type": "stream",
     "text": [
      "100%|██████████| 192000/192000 [02:41<00:00, 1188.28it/s]\n",
      "  0%|          | 59/192000 [00:00<05:33, 574.96it/s]"
     ]
    },
    {
     "name": "stdout",
     "output_type": "stream",
     "text": [
      "Error: 19.2026123221\n",
      "running for z=0.334210526316\n"
     ]
    },
    {
     "name": "stderr",
     "output_type": "stream",
     "text": [
      "100%|██████████| 192000/192000 [02:24<00:00, 1332.08it/s]\n",
      "  0%|          | 53/192000 [00:00<06:12, 515.59it/s]"
     ]
    },
    {
     "name": "stdout",
     "output_type": "stream",
     "text": [
      "Error: 33.459770715\n",
      "running for z=0.286842105263\n"
     ]
    },
    {
     "name": "stderr",
     "output_type": "stream",
     "text": [
      "100%|██████████| 192000/192000 [02:10<00:00, 1474.97it/s]\n",
      "  0%|          | 34/192000 [00:00<09:26, 338.84it/s]"
     ]
    },
    {
     "name": "stdout",
     "output_type": "stream",
     "text": [
      "Error: 49.6575428267\n",
      "running for z=0.239473684211\n"
     ]
    },
    {
     "name": "stderr",
     "output_type": "stream",
     "text": [
      "100%|██████████| 192000/192000 [01:53<00:00, 1685.72it/s]\n",
      "  0%|          | 55/192000 [00:00<05:55, 539.37it/s]"
     ]
    },
    {
     "name": "stdout",
     "output_type": "stream",
     "text": [
      "Error: 77.160676679\n",
      "running for z=0.192105263158\n"
     ]
    },
    {
     "name": "stderr",
     "output_type": "stream",
     "text": [
      "100%|██████████| 192000/192000 [01:39<00:00, 1931.56it/s]\n",
      "  0%|          | 63/192000 [00:00<05:05, 628.82it/s]"
     ]
    },
    {
     "name": "stdout",
     "output_type": "stream",
     "text": [
      "Error: 121.579647134\n",
      "running for z=0.144736842105\n"
     ]
    },
    {
     "name": "stderr",
     "output_type": "stream",
     "text": [
      "100%|██████████| 192000/192000 [01:24<00:00, 2281.09it/s]\n",
      "  0%|          | 66/192000 [00:00<04:51, 658.45it/s]"
     ]
    },
    {
     "name": "stdout",
     "output_type": "stream",
     "text": [
      "Error: 239.612799344\n",
      "running for z=0.0973684210526\n"
     ]
    },
    {
     "name": "stderr",
     "output_type": "stream",
     "text": [
      "100%|██████████| 192000/192000 [01:05<00:00, 2925.00it/s]\n",
      "  0%|          | 83/192000 [00:00<03:51, 829.06it/s]"
     ]
    },
    {
     "name": "stdout",
     "output_type": "stream",
     "text": [
      "Error: 258169.464963\n",
      "running for z=0.05\n"
     ]
    },
    {
     "name": "stderr",
     "output_type": "stream",
     "text": [
      "100%|██████████| 192000/192000 [00:53<00:00, 3613.97it/s]\n"
     ]
    },
    {
     "name": "stdout",
     "output_type": "stream",
     "text": [
      "Error: 5058785.68297\n"
     ]
    },
    {
     "data": {
      "image/png": "[encoded data removed]",
      "text/plain": [
       "<matplotlib.figure.Figure at 0x10fb6b3d0>"
      ]
     },
     "metadata": {},
     "output_type": "display_data"
    }
   ],
   "source": [
    "N_z = 20\n",
    "zs = np.linspace(0.05, 0.95, N_z)\n",
    "MAX_EPOCHS = 3000\n",
    "TH_ERR = 10.0\n",
    "\n",
    "epochs = np.array([])\n",
    "for z in zs[::-1]:\n",
    "    print 'running for z={}'.format(z)\n",
    "    model = Autoencoder(input_layers=N, z=z)\n",
    "    best_results = try_run(model, MAX_EPOCHS, th_err=TH_ERR, viz=False)\n",
    "    epochs = np.append(epochs, best_results['epoch'])\n",
    "    print 'Error:', best_results['min_err']\n",
    "    \n",
    "plt.plot(zs[::-1], epochs)\n",
    "plt.title('Iterations to achieve error {}'.format(TH_ERR))\n",
    "plt.xlabel('Z')\n",
    "plt.ylabel('Iterations')\n",
    "plt.show()"
   ]
  },
  {
   "cell_type": "markdown",
   "metadata": {},
   "source": [
    "Как видно из приведенного графика, при $Z \\leqslant 0.5$ количества эпох в размере $3000$ не хватает, чтобы достичь ошибки в $10.0$, и лишь для следующих коэффициентов это удается сделать. При этом сходится алгоритм значительно быстро - кривая очень наклонена"
   ]
  },
  {
   "cell_type": "markdown",
   "metadata": {},
   "source": [
    "Построим график заивимости количества эпох от пороговой ошибки. Фиксированные параметры:\n",
    "- `z`: 0.6\n",
    "- `epoch`: 3000\n",
    "- `dynamic_lr`: True"
   ]
  },
  {
   "cell_type": "code",
   "execution_count": 147,
   "metadata": {},
   "outputs": [
    {
     "name": "stderr",
     "output_type": "stream",
     "text": [
      "  0%|          | 34/192000 [00:00<09:55, 322.09it/s]"
     ]
    },
    {
     "name": "stdout",
     "output_type": "stream",
     "text": [
      "running for thr_err=30.0\n"
     ]
    },
    {
     "name": "stderr",
     "output_type": "stream",
     "text": [
      " 21%|██        | 39936/192000 [00:48<03:04, 822.98it/s]\n"
     ]
    },
    {
     "name": "stdout",
     "output_type": "stream",
     "text": [
      "running for thr_err=27.7777777778\n"
     ]
    },
    {
     "name": "stderr",
     "output_type": "stream",
     "text": [
      " 23%|██▎       | 44096/192000 [00:51<02:53, 851.22it/s]\n",
      "  0%|          | 52/192000 [00:00<06:09, 519.80it/s]"
     ]
    },
    {
     "name": "stdout",
     "output_type": "stream",
     "text": [
      "running for thr_err=25.5555555556\n"
     ]
    },
    {
     "name": "stderr",
     "output_type": "stream",
     "text": [
      " 26%|██▌       | 48960/192000 [01:03<03:04, 774.83it/s]\n",
      "  0%|          | 50/192000 [00:00<06:31, 490.76it/s]"
     ]
    },
    {
     "name": "stdout",
     "output_type": "stream",
     "text": [
      "running for thr_err=23.3333333333\n"
     ]
    },
    {
     "name": "stderr",
     "output_type": "stream",
     "text": [
      " 28%|██▊       | 54720/192000 [01:05<02:44, 833.83it/s]\n",
      "  0%|          | 48/192000 [00:00<06:44, 474.07it/s]"
     ]
    },
    {
     "name": "stdout",
     "output_type": "stream",
     "text": [
      "running for thr_err=21.1111111111\n"
     ]
    },
    {
     "name": "stderr",
     "output_type": "stream",
     "text": [
      " 32%|███▏      | 61696/192000 [01:11<02:31, 858.74it/s]\n",
      "  0%|          | 49/192000 [00:00<06:36, 484.20it/s]"
     ]
    },
    {
     "name": "stdout",
     "output_type": "stream",
     "text": [
      "running for thr_err=18.8888888889\n"
     ]
    },
    {
     "name": "stderr",
     "output_type": "stream",
     "text": [
      " 36%|███▋      | 70080/192000 [01:20<02:20, 869.57it/s]\n",
      "  0%|          | 49/192000 [00:00<06:43, 475.51it/s]"
     ]
    },
    {
     "name": "stdout",
     "output_type": "stream",
     "text": [
      "running for thr_err=16.6666666667\n"
     ]
    },
    {
     "name": "stderr",
     "output_type": "stream",
     "text": [
      " 42%|████▏     | 80512/192000 [01:31<02:06, 879.09it/s]\n",
      "  0%|          | 47/192000 [00:00<06:51, 466.82it/s]"
     ]
    },
    {
     "name": "stdout",
     "output_type": "stream",
     "text": [
      "running for thr_err=14.4444444444\n"
     ]
    },
    {
     "name": "stderr",
     "output_type": "stream",
     "text": [
      " 49%|████▉     | 93888/192000 [01:55<02:00, 815.18it/s]\n",
      "  0%|          | 44/192000 [00:00<07:29, 427.26it/s]"
     ]
    },
    {
     "name": "stdout",
     "output_type": "stream",
     "text": [
      "running for thr_err=12.2222222222\n"
     ]
    },
    {
     "name": "stderr",
     "output_type": "stream",
     "text": [
      " 58%|█████▊    | 111744/192000 [02:11<01:34, 847.30it/s]\n",
      "  0%|          | 39/192000 [00:00<08:16, 387.00it/s]"
     ]
    },
    {
     "name": "stdout",
     "output_type": "stream",
     "text": [
      "running for thr_err=10.0\n"
     ]
    },
    {
     "name": "stderr",
     "output_type": "stream",
     "text": [
      " 71%|███████▏  | 137216/192000 [02:58<01:11, 770.20it/s]\n"
     ]
    },
    {
     "data": {
      "image/png": "[encoded data removed]",
      "text/plain": [
       "<matplotlib.figure.Figure at 0x110dd0490>"
      ]
     },
     "metadata": {},
     "output_type": "display_data"
    }
   ],
   "source": [
    "N_thr = 10\n",
    "thrs = np.linspace(10.0, 30.0, N_thr)\n",
    "MAX_EPOCHS = 3000\n",
    "Z = 0.6\n",
    "epochs = np.array([])\n",
    "for thr in thrs[::-1]:\n",
    "    print 'running for thr_err={}'.format(thr)\n",
    "    model = Autoencoder(input_layers=N, z=Z)\n",
    "    best_results = try_run(model, MAX_EPOCHS, th_err=thr, viz=False)\n",
    "    epochs = np.append(epochs, best_results['epoch'])\n",
    "    \n",
    "plt.plot(thrs[::-1], epochs)\n",
    "plt.title('Iterations to achieve error with z={}'.format(Z))\n",
    "plt.xlabel('Error threshold')\n",
    "plt.ylabel('Iterations')\n",
    "plt.show()"
   ]
  },
  {
   "cell_type": "markdown",
   "metadata": {},
   "source": [
    "Как и ожидалось, количество затраченных эпох до достижения пороговой ошибки гладко снижается"
   ]
  },
  {
   "cell_type": "markdown",
   "metadata": {},
   "source": [
    "Зависимость количества эпох от коэффициента обучения (`learning rate`). Исходя из проведенных исследований, определим границы для него $[1e^{-6}..1e^{-2}]$. Фиксированные параметры:\n",
    "- `z`: 0.6\n",
    "- `th_err`: 10.0\n",
    "- `epoch`: 3000"
   ]
  },
  {
   "cell_type": "code",
   "execution_count": 148,
   "metadata": {},
   "outputs": [
    {
     "name": "stderr",
     "output_type": "stream",
     "text": [
      "  0%|          | 40/192000 [00:00<08:05, 395.29it/s]"
     ]
    },
    {
     "name": "stdout",
     "output_type": "stream",
     "text": [
      "running for alpha=0.01\n"
     ]
    },
    {
     "name": "stderr",
     "output_type": "stream",
     "text": [
      "100%|██████████| 192000/192000 [03:57<00:00, 808.77it/s]\n",
      "  0%|          | 45/192000 [00:00<07:12, 444.16it/s]"
     ]
    },
    {
     "name": "stdout",
     "output_type": "stream",
     "text": [
      "Error:  89399836.4426\n",
      "running for alpha=0.00947373684211\n"
     ]
    },
    {
     "name": "stderr",
     "output_type": "stream",
     "text": [
      "100%|██████████| 192000/192000 [03:57<00:00, 808.42it/s]\n",
      "  0%|          | 44/192000 [00:00<07:21, 434.62it/s]"
     ]
    },
    {
     "name": "stdout",
     "output_type": "stream",
     "text": [
      "Error:  88478629.5696\n",
      "running for alpha=0.00894747368421\n"
     ]
    },
    {
     "name": "stderr",
     "output_type": "stream",
     "text": [
      "100%|██████████| 192000/192000 [03:38<00:00, 879.86it/s]\n",
      "  0%|          | 48/192000 [00:00<06:41, 477.96it/s]"
     ]
    },
    {
     "name": "stdout",
     "output_type": "stream",
     "text": [
      "Error:  87174296.8514\n",
      "running for alpha=0.00842121052632\n"
     ]
    },
    {
     "name": "stderr",
     "output_type": "stream",
     "text": [
      "100%|██████████| 192000/192000 [03:41<00:00, 868.32it/s]\n",
      "  0%|          | 39/192000 [00:00<08:15, 387.71it/s]"
     ]
    },
    {
     "name": "stdout",
     "output_type": "stream",
     "text": [
      "Error:  86681880.4466\n",
      "running for alpha=0.00789494736842\n"
     ]
    },
    {
     "name": "stderr",
     "output_type": "stream",
     "text": [
      "100%|██████████| 192000/192000 [04:01<00:00, 795.71it/s]\n",
      "  0%|          | 45/192000 [00:00<07:07, 448.95it/s]"
     ]
    },
    {
     "name": "stdout",
     "output_type": "stream",
     "text": [
      "Error:  30823419.23\n",
      "running for alpha=0.00736868421053\n"
     ]
    },
    {
     "name": "stderr",
     "output_type": "stream",
     "text": [
      "100%|██████████| 192000/192000 [04:01<00:00, 795.86it/s]\n",
      "  0%|          | 46/192000 [00:00<06:58, 458.20it/s]"
     ]
    },
    {
     "name": "stdout",
     "output_type": "stream",
     "text": [
      "Error:  30507693.4756\n",
      "running for alpha=0.00684242105263\n"
     ]
    },
    {
     "name": "stderr",
     "output_type": "stream",
     "text": [
      "100%|██████████| 192000/192000 [03:58<00:00, 805.09it/s]\n",
      "  0%|          | 45/192000 [00:00<07:08, 447.84it/s]"
     ]
    },
    {
     "name": "stdout",
     "output_type": "stream",
     "text": [
      "Error:  109917.097478\n",
      "running for alpha=0.00631615789474\n"
     ]
    },
    {
     "name": "stderr",
     "output_type": "stream",
     "text": [
      "  6%|▌         | 11008/192000 [00:13<03:44, 805.78it/s]\n",
      "  0%|          | 43/192000 [00:00<07:27, 428.87it/s]"
     ]
    },
    {
     "name": "stdout",
     "output_type": "stream",
     "text": [
      "Error:  9.76079183172\n",
      "running for alpha=0.00578989473684\n"
     ]
    },
    {
     "name": "stderr",
     "output_type": "stream",
     "text": [
      "  6%|▌         | 10624/192000 [00:12<03:38, 830.67it/s]\n",
      "  0%|          | 45/192000 [00:00<07:11, 444.63it/s]"
     ]
    },
    {
     "name": "stdout",
     "output_type": "stream",
     "text": [
      "Error:  9.99386879154\n",
      "running for alpha=0.00526363157895\n"
     ]
    },
    {
     "name": "stderr",
     "output_type": "stream",
     "text": [
      "  5%|▌         | 10176/192000 [00:12<03:39, 829.71it/s]\n",
      "  0%|          | 47/192000 [00:00<06:56, 461.39it/s]"
     ]
    },
    {
     "name": "stdout",
     "output_type": "stream",
     "text": [
      "Error:  9.87008572729\n",
      "running for alpha=0.00473736842105\n"
     ]
    },
    {
     "name": "stderr",
     "output_type": "stream",
     "text": [
      "  5%|▌         | 10240/192000 [00:12<03:38, 833.47it/s]\n",
      "  0%|          | 44/192000 [00:00<07:18, 437.32it/s]"
     ]
    },
    {
     "name": "stdout",
     "output_type": "stream",
     "text": [
      "Error:  9.99978407562\n",
      "running for alpha=0.00421110526316\n"
     ]
    },
    {
     "name": "stderr",
     "output_type": "stream",
     "text": [
      "  5%|▌         | 10368/192000 [00:12<03:39, 828.92it/s]\n",
      "  0%|          | 47/192000 [00:00<06:49, 468.41it/s]"
     ]
    },
    {
     "name": "stdout",
     "output_type": "stream",
     "text": [
      "Error:  9.97077184207\n",
      "running for alpha=0.00368484210526\n"
     ]
    },
    {
     "name": "stderr",
     "output_type": "stream",
     "text": [
      "  6%|▌         | 10752/192000 [00:14<04:11, 721.01it/s]\n",
      "  0%|          | 44/192000 [00:00<07:18, 438.23it/s]"
     ]
    },
    {
     "name": "stdout",
     "output_type": "stream",
     "text": [
      "Error:  9.98614946326\n",
      "running for alpha=0.00315857894737\n"
     ]
    },
    {
     "name": "stderr",
     "output_type": "stream",
     "text": [
      "  6%|▌         | 11840/192000 [00:17<04:19, 693.89it/s]\n",
      "  0%|          | 47/192000 [00:00<06:51, 466.46it/s]"
     ]
    },
    {
     "name": "stdout",
     "output_type": "stream",
     "text": [
      "Error:  9.96695472801\n",
      "running for alpha=0.00263231578947\n"
     ]
    },
    {
     "name": "stderr",
     "output_type": "stream",
     "text": [
      "  7%|▋         | 13632/192000 [00:17<03:48, 781.41it/s]\n",
      "  0%|          | 33/192000 [00:00<09:53, 323.61it/s]"
     ]
    },
    {
     "name": "stdout",
     "output_type": "stream",
     "text": [
      "Error:  9.95024961956\n",
      "running for alpha=0.00210605263158\n"
     ]
    },
    {
     "name": "stderr",
     "output_type": "stream",
     "text": [
      "  9%|▊         | 16448/192000 [00:20<03:40, 797.26it/s]\n",
      "  0%|          | 48/192000 [00:00<06:40, 478.74it/s]"
     ]
    },
    {
     "name": "stdout",
     "output_type": "stream",
     "text": [
      "Error:  9.96597159446\n",
      "running for alpha=0.00157978947368\n"
     ]
    },
    {
     "name": "stderr",
     "output_type": "stream",
     "text": [
      " 11%|█         | 21312/192000 [00:26<03:31, 805.53it/s]\n",
      "  0%|          | 49/192000 [00:00<06:33, 487.93it/s]"
     ]
    },
    {
     "name": "stdout",
     "output_type": "stream",
     "text": [
      "Error:  9.97304398247\n",
      "running for alpha=0.00105352631579\n"
     ]
    },
    {
     "name": "stderr",
     "output_type": "stream",
     "text": [
      " 16%|█▌        | 31168/192000 [00:39<03:21, 798.59it/s]\n",
      "  0%|          | 42/192000 [00:00<07:39, 417.71it/s]"
     ]
    },
    {
     "name": "stdout",
     "output_type": "stream",
     "text": [
      "Error:  9.98992659578\n",
      "running for alpha=0.000527263157895\n"
     ]
    },
    {
     "name": "stderr",
     "output_type": "stream",
     "text": [
      " 32%|███▏      | 60864/192000 [01:16<02:44, 799.22it/s]\n",
      "  0%|          | 46/192000 [00:00<07:05, 451.52it/s]"
     ]
    },
    {
     "name": "stdout",
     "output_type": "stream",
     "text": [
      "Error:  9.99676381978\n",
      "running for alpha=1e-06\n"
     ]
    },
    {
     "name": "stderr",
     "output_type": "stream",
     "text": [
      "100%|██████████| 192000/192000 [04:01<00:00, 795.35it/s]\n"
     ]
    },
    {
     "name": "stdout",
     "output_type": "stream",
     "text": [
      "Error:  512.056742628\n"
     ]
    },
    {
     "data": {
      "image/png": "[encoded data removed]",
      "text/plain": [
       "<matplotlib.figure.Figure at 0x1109eb210>"
      ]
     },
     "metadata": {},
     "output_type": "display_data"
    }
   ],
   "source": [
    "N_alpha = 20\n",
    "alphas = np.linspace(1e-6, 1e-2, N_alpha)\n",
    "MAX_EPOCHS = 3000\n",
    "Z = 0.6\n",
    "TH_ERR = 10.0\n",
    "epochs = np.array([])\n",
    "for alpha in alphas[::-1]:\n",
    "    print 'running for alpha={}'.format(alpha)\n",
    "    model = Autoencoder(input_layers=N, z=Z, lr=alpha, dynamic_lr=False)\n",
    "    best_results = try_run(model, MAX_EPOCHS, th_err=TH_ERR, viz=False)\n",
    "    epochs = np.append(epochs, best_results['epoch'])\n",
    "    print 'Error: ', best_results['min_err']\n",
    "    \n",
    "plt.plot(alphas[::-1], epochs)\n",
    "plt.title('Iterations to achieve error {} with z={}'.format(TH_ERR, Z))\n",
    "plt.xlabel('Alpha')\n",
    "plt.ylabel('Iterations')\n",
    "plt.show()"
   ]
  },
  {
   "cell_type": "markdown",
   "metadata": {},
   "source": [
    "Вывод по этому графику следующий: как и в других похожих алгоритмах обучения (например, в градиентном спуске) существуют две крайности задания `learning rate` ($\\alpha$): при слишком низком значении алгоритм \"недообучается\", то есть показывает плохой результат еще во время обучения, при слишком же большом значении алгоритм \"промахивается\" мимо глобальных минимумов. Похожая ситуация проявляется и здесь: при слишком маленьком $\\alpha$ алгоритму необходимо очень много времени (эпох), чтобы получить хорошую ошибку (график очень резко опускается, если идти слева), затем переходит в зону, в которой $\\alpha$ оптимально для обучения (как видно, это достигается где-то при $\\alpha = [0.004..0.006]$, затем начинается резкий скачок, когда $\\alpha$ лишь делает только хуже всему процессу и выходит из зоны минимума"
   ]
  },
  {
   "cell_type": "markdown",
   "metadata": {},
   "source": [
    "Зависимость количество эпох от картинки. Всего имеется $8$ картинок, для них и будут проведены тесты.\n",
    "Фиксированные параметры:\n",
    "- `z`: 0.6\n",
    "- `epoch`: 3000\n",
    "- `th_err`: 70.0\n",
    "- `dynamic_lr`: True"
   ]
  },
  {
   "cell_type": "code",
   "execution_count": 151,
   "metadata": {},
   "outputs": [
    {
     "name": "stderr",
     "output_type": "stream",
     "text": [
      "  0%|          | 34/192000 [00:00<09:26, 338.90it/s]"
     ]
    },
    {
     "name": "stdout",
     "output_type": "stream",
     "text": [
      "running for image # 1 cornell_box_04.jpg\n"
     ]
    },
    {
     "name": "stderr",
     "output_type": "stream",
     "text": [
      "  7%|▋         | 14272/192000 [00:18<03:54, 757.17it/s]\n",
      "  0%|          | 45/192000 [00:00<07:19, 437.03it/s]"
     ]
    },
    {
     "name": "stdout",
     "output_type": "stream",
     "text": [
      "Error:  69.8304169301\n",
      "running for image # 2 Reddeadredemption_agentedgarross_256x256.jpg\n"
     ]
    },
    {
     "name": "stderr",
     "output_type": "stream",
     "text": [
      " 50%|█████     | 96960/192000 [01:50<01:47, 881.11it/s]\n",
      "  0%|          | 46/192000 [00:00<07:03, 453.71it/s]"
     ]
    },
    {
     "name": "stdout",
     "output_type": "stream",
     "text": [
      "Error:  69.9645926085\n",
      "running for image # 3 Paper Mario.png\n"
     ]
    },
    {
     "name": "stderr",
     "output_type": "stream",
     "text": [
      " 63%|██████▎   | 120640/192000 [02:13<01:19, 902.18it/s]\n",
      "  0%|          | 45/192000 [00:00<07:10, 445.71it/s]"
     ]
    },
    {
     "name": "stdout",
     "output_type": "stream",
     "text": [
      "Error:  69.9844412457\n",
      "running for image # 4 Haydn-Jones.jpg\n"
     ]
    },
    {
     "name": "stderr",
     "output_type": "stream",
     "text": [
      " 28%|██▊       | 54592/192000 [01:09<02:54, 788.56it/s]\n",
      "  0%|          | 48/192000 [00:00<06:42, 476.44it/s]"
     ]
    },
    {
     "name": "stdout",
     "output_type": "stream",
     "text": [
      "Error:  69.978240198\n",
      "running for image # 5 NettyScribble.jpg\n"
     ]
    },
    {
     "name": "stderr",
     "output_type": "stream",
     "text": [
      " 15%|█▌        | 29696/192000 [00:35<03:13, 837.09it/s]\n",
      "  0%|          | 45/192000 [00:00<07:11, 444.95it/s]"
     ]
    },
    {
     "name": "stdout",
     "output_type": "stream",
     "text": [
      "Error:  69.9098878019\n",
      "running for image # 6 Avatar_256x256.jpg\n"
     ]
    },
    {
     "name": "stderr",
     "output_type": "stream",
     "text": [
      " 65%|██████▍   | 124288/192000 [02:27<01:20, 844.89it/s]\n",
      "  0%|          | 49/192000 [00:00<06:36, 483.98it/s]"
     ]
    },
    {
     "name": "stdout",
     "output_type": "stream",
     "text": [
      "Error:  69.9997133819\n",
      "running for image # 7 img1.jpg\n"
     ]
    },
    {
     "name": "stderr",
     "output_type": "stream",
     "text": [
      " 47%|████▋     | 91072/192000 [01:49<02:01, 830.13it/s]\n",
      "  0%|          | 51/192000 [00:00<06:19, 506.18it/s]"
     ]
    },
    {
     "name": "stdout",
     "output_type": "stream",
     "text": [
      "Error:  69.9783549459\n",
      "running for image # 8 baboon.jpg\n"
     ]
    },
    {
     "name": "stderr",
     "output_type": "stream",
     "text": [
      "  3%|▎         | 5952/192000 [00:06<03:20, 929.79it/s]\n"
     ]
    },
    {
     "name": "stdout",
     "output_type": "stream",
     "text": [
      "Error:  69.3002667239\n"
     ]
    },
    {
     "data": {
      "image/png": "[encoded data removed]",
      "text/plain": [
       "<matplotlib.figure.Figure at 0x10b61a710>"
      ]
     },
     "metadata": {},
     "output_type": "display_data"
    }
   ],
   "source": [
    "Z = 0.6\n",
    "MAX_EPOCHS = 3000\n",
    "TH_ERR = 70.0\n",
    "epochs = np.array([])\n",
    "imgs = list(next(walk('./pics/'))[2])\n",
    "\n",
    "def custom_pic_gen(path):\n",
    "    im = load_image(path)\n",
    "    return transform_image(im, n, m)\n",
    "\n",
    "for idx, img in enumerate(imgs):\n",
    "    print 'running for image #', idx + 1, img\n",
    "    model = Autoencoder(input_layers=N, z=Z)\n",
    "    best_results = try_run(model, MAX_EPOCHS, gen=custom_pic_gen('./pics/{}'.format(img)), th_err=TH_ERR, viz=False)\n",
    "    epochs = np.append(epochs, best_results['epoch'])\n",
    "    print 'Error: ', best_results['min_err']\n",
    "    \n",
    "plt.plot(range(len(imgs)), epochs)\n",
    "plt.title('Iterations to achieve error {}'.format(TH_ERR))\n",
    "plt.xlabel('Img #')\n",
    "plt.ylabel('Iterations')\n",
    "plt.show()"
   ]
  },
  {
   "cell_type": "markdown",
   "metadata": {},
   "source": [
    "Видим, что в зависимости от содержания картинки (много однотонных областей, либо наоборот вся картинка \"пестрит\") алгоритм обучается неравномерно. Но в целом можно задать верхнюю планку на *время обучения* (в данном случае, где-то в районе 2000 эпох), для которой можно получить требуемую оценку в среднем для всех картинок"
   ]
  },
  {
   "cell_type": "code",
   "execution_count": null,
   "metadata": {
    "collapsed": true
   },
   "outputs": [],
   "source": []
  },
  {
   "cell_type": "markdown",
   "metadata": {
    "collapsed": true
   },
   "source": [
    "Теперь будем варьировать доступные параметры `w_norm` и `dynamic_lr`.\n",
    "\n",
    "`w_norm`: True\n",
    "\n",
    "`dynamic_lr`: True:"
   ]
  },
  {
   "cell_type": "code",
   "execution_count": 145,
   "metadata": {},
   "outputs": [
    {
     "name": "stderr",
     "output_type": "stream",
     "text": [
      "  0%|          | 28/192000 [00:00<11:42, 273.16it/s]"
     ]
    },
    {
     "name": "stdout",
     "output_type": "stream",
     "text": [
      "running for z=0.95\n"
     ]
    },
    {
     "name": "stderr",
     "output_type": "stream",
     "text": [
      " 33%|███▎      | 64000/192000 [01:46<03:33, 599.11it/s]\n",
      "  0%|          | 42/192000 [00:00<07:45, 412.19it/s]"
     ]
    },
    {
     "name": "stdout",
     "output_type": "stream",
     "text": [
      "Error: 9.99581898821\n",
      "running for z=0.902631578947\n"
     ]
    },
    {
     "name": "stderr",
     "output_type": "stream",
     "text": [
      " 37%|███▋      | 70208/192000 [01:50<03:11, 636.91it/s]\n",
      "  0%|          | 41/192000 [00:00<07:52, 406.30it/s]"
     ]
    },
    {
     "name": "stdout",
     "output_type": "stream",
     "text": [
      "Error: 9.99524955959\n",
      "running for z=0.855263157895\n"
     ]
    },
    {
     "name": "stderr",
     "output_type": "stream",
     "text": [
      " 39%|███▊      | 74368/192000 [01:52<02:57, 662.62it/s]\n",
      "  0%|          | 41/192000 [00:00<08:01, 399.00it/s]"
     ]
    },
    {
     "name": "stdout",
     "output_type": "stream",
     "text": [
      "Error: 9.997741394\n",
      "running for z=0.807894736842\n"
     ]
    },
    {
     "name": "stderr",
     "output_type": "stream",
     "text": [
      " 42%|████▏     | 80192/192000 [01:55<02:41, 693.99it/s]\n",
      "  0%|          | 41/192000 [00:00<07:54, 404.51it/s]"
     ]
    },
    {
     "name": "stdout",
     "output_type": "stream",
     "text": [
      "Error: 9.99297610888\n",
      "running for z=0.760526315789\n"
     ]
    },
    {
     "name": "stderr",
     "output_type": "stream",
     "text": [
      " 47%|████▋     | 90176/192000 [02:00<02:15, 750.90it/s]\n",
      "  0%|          | 47/192000 [00:00<06:49, 468.57it/s]"
     ]
    },
    {
     "name": "stdout",
     "output_type": "stream",
     "text": [
      "Error: 9.99848330214\n",
      "running for z=0.713157894737\n"
     ]
    },
    {
     "name": "stderr",
     "output_type": "stream",
     "text": [
      " 52%|█████▏    | 99968/192000 [02:22<02:11, 701.81it/s]\n",
      "  0%|          | 30/192000 [00:00<10:50, 295.21it/s]"
     ]
    },
    {
     "name": "stdout",
     "output_type": "stream",
     "text": [
      "Error: 9.99799888912\n",
      "running for z=0.665789473684\n"
     ]
    },
    {
     "name": "stderr",
     "output_type": "stream",
     "text": [
      " 55%|█████▌    | 106048/192000 [02:31<02:03, 698.29it/s]\n",
      "  0%|          | 51/192000 [00:00<06:24, 499.44it/s]"
     ]
    },
    {
     "name": "stdout",
     "output_type": "stream",
     "text": [
      "Error: 9.99838696999\n",
      "running for z=0.618421052632\n"
     ]
    },
    {
     "name": "stderr",
     "output_type": "stream",
     "text": [
      " 63%|██████▎   | 120768/192000 [02:34<01:31, 780.29it/s]\n",
      "  0%|          | 49/192000 [00:00<06:36, 484.72it/s]"
     ]
    },
    {
     "name": "stdout",
     "output_type": "stream",
     "text": [
      "Error: 9.99645728677\n",
      "running for z=0.571052631579\n"
     ]
    },
    {
     "name": "stderr",
     "output_type": "stream",
     "text": [
      " 77%|███████▋  | 148480/192000 [03:04<00:54, 803.72it/s]\n",
      "  0%|          | 44/192000 [00:00<07:19, 437.16it/s]"
     ]
    },
    {
     "name": "stdout",
     "output_type": "stream",
     "text": [
      "Error: 9.998165406\n",
      "running for z=0.523684210526\n"
     ]
    },
    {
     "name": "stderr",
     "output_type": "stream",
     "text": [
      " 88%|████████▊ | 168704/192000 [03:03<00:25, 919.77it/s] \n",
      "  0%|          | 46/192000 [00:00<07:02, 453.84it/s]"
     ]
    },
    {
     "name": "stdout",
     "output_type": "stream",
     "text": [
      "Error: 9.99831311216\n",
      "running for z=0.476315789474\n"
     ]
    },
    {
     "name": "stderr",
     "output_type": "stream",
     "text": [
      "100%|██████████| 192000/192000 [03:18<00:00, 966.86it/s] \n",
      "  0%|          | 58/192000 [00:00<05:36, 570.69it/s]"
     ]
    },
    {
     "name": "stdout",
     "output_type": "stream",
     "text": [
      "Error: 11.5749577847\n",
      "running for z=0.428947368421\n"
     ]
    },
    {
     "name": "stderr",
     "output_type": "stream",
     "text": [
      "100%|██████████| 192000/192000 [02:55<00:00, 1091.11it/s]\n",
      "  0%|          | 49/192000 [00:00<06:33, 487.27it/s]"
     ]
    },
    {
     "name": "stdout",
     "output_type": "stream",
     "text": [
      "Error: 14.366996714\n",
      "running for z=0.381578947368\n"
     ]
    },
    {
     "name": "stderr",
     "output_type": "stream",
     "text": [
      "100%|██████████| 192000/192000 [02:41<00:00, 1188.28it/s]\n",
      "  0%|          | 59/192000 [00:00<05:33, 574.96it/s]"
     ]
    },
    {
     "name": "stdout",
     "output_type": "stream",
     "text": [
      "Error: 19.2026123221\n",
      "running for z=0.334210526316\n"
     ]
    },
    {
     "name": "stderr",
     "output_type": "stream",
     "text": [
      "100%|██████████| 192000/192000 [02:24<00:00, 1332.08it/s]\n",
      "  0%|          | 53/192000 [00:00<06:12, 515.59it/s]"
     ]
    },
    {
     "name": "stdout",
     "output_type": "stream",
     "text": [
      "Error: 33.459770715\n",
      "running for z=0.286842105263\n"
     ]
    },
    {
     "name": "stderr",
     "output_type": "stream",
     "text": [
      "100%|██████████| 192000/192000 [02:10<00:00, 1474.97it/s]\n",
      "  0%|          | 34/192000 [00:00<09:26, 338.84it/s]"
     ]
    },
    {
     "name": "stdout",
     "output_type": "stream",
     "text": [
      "Error: 49.6575428267\n",
      "running for z=0.239473684211\n"
     ]
    },
    {
     "name": "stderr",
     "output_type": "stream",
     "text": [
      "100%|██████████| 192000/192000 [01:53<00:00, 1685.72it/s]\n",
      "  0%|          | 55/192000 [00:00<05:55, 539.37it/s]"
     ]
    },
    {
     "name": "stdout",
     "output_type": "stream",
     "text": [
      "Error: 77.160676679\n",
      "running for z=0.192105263158\n"
     ]
    },
    {
     "name": "stderr",
     "output_type": "stream",
     "text": [
      "100%|██████████| 192000/192000 [01:39<00:00, 1931.56it/s]\n",
      "  0%|          | 63/192000 [00:00<05:05, 628.82it/s]"
     ]
    },
    {
     "name": "stdout",
     "output_type": "stream",
     "text": [
      "Error: 121.579647134\n",
      "running for z=0.144736842105\n"
     ]
    },
    {
     "name": "stderr",
     "output_type": "stream",
     "text": [
      "100%|██████████| 192000/192000 [01:24<00:00, 2281.09it/s]\n",
      "  0%|          | 66/192000 [00:00<04:51, 658.45it/s]"
     ]
    },
    {
     "name": "stdout",
     "output_type": "stream",
     "text": [
      "Error: 239.612799344\n",
      "running for z=0.0973684210526\n"
     ]
    },
    {
     "name": "stderr",
     "output_type": "stream",
     "text": [
      "100%|██████████| 192000/192000 [01:05<00:00, 2925.00it/s]\n",
      "  0%|          | 83/192000 [00:00<03:51, 829.06it/s]"
     ]
    },
    {
     "name": "stdout",
     "output_type": "stream",
     "text": [
      "Error: 258169.464963\n",
      "running for z=0.05\n"
     ]
    },
    {
     "name": "stderr",
     "output_type": "stream",
     "text": [
      "100%|██████████| 192000/192000 [00:53<00:00, 3613.97it/s]\n"
     ]
    },
    {
     "name": "stdout",
     "output_type": "stream",
     "text": [
      "Error: 5058785.68297\n"
     ]
    },
    {
     "data": {
      "image/png": "[encoded data removed]",
      "text/plain": [
       "<matplotlib.figure.Figure at 0x10fb6b3d0>"
      ]
     },
     "metadata": {},
     "output_type": "display_data"
    }
   ],
   "source": [
    "N_z = 20\n",
    "zs = np.linspace(0.05, 0.95, N_z)\n",
    "MAX_EPOCHS = 3000\n",
    "TH_ERR = 10.0\n",
    "\n",
    "epochs = np.array([])\n",
    "for z in zs[::-1]:\n",
    "    print 'running for z={}'.format(z)\n",
    "    model = Autoencoder(input_layers=N, z=z)\n",
    "    best_results = try_run(model, MAX_EPOCHS, th_err=TH_ERR, viz=False)\n",
    "    epochs = np.append(epochs, best_results['epoch'])\n",
    "    print 'Error:', best_results['min_err']\n",
    "    \n",
    "plt.plot(zs[::-1], epochs)\n",
    "plt.title('Iterations to achieve error {}'.format(TH_ERR))\n",
    "plt.xlabel('Z')\n",
    "plt.ylabel('Iterations')\n",
    "plt.show()"
   ]
  },
  {
   "cell_type": "markdown",
   "metadata": {},
   "source": [
    "`w_norm`: False\n",
    "\n",
    "`dynamic_lr`: True"
   ]
  },
  {
   "cell_type": "code",
   "execution_count": 19,
   "metadata": {
    "scrolled": true
   },
   "outputs": [
    {
     "name": "stderr",
     "output_type": "stream",
     "text": [
      "  0%|          | 24/192000 [00:00<13:21, 239.51it/s]"
     ]
    },
    {
     "name": "stdout",
     "output_type": "stream",
     "text": [
      "running for z=0.95\n"
     ]
    },
    {
     "name": "stderr",
     "output_type": "stream",
     "text": [
      " 30%|██▉       | 57344/192000 [01:19<03:07, 716.82it/s]\n",
      "  0%|          | 14/192000 [00:00<23:52, 134.00it/s]"
     ]
    },
    {
     "name": "stdout",
     "output_type": "stream",
     "text": [
      "Error: 9.98964050661\n",
      "running for z=0.902631578947\n"
     ]
    },
    {
     "name": "stderr",
     "output_type": "stream",
     "text": [
      " 33%|███▎      | 62656/192000 [01:28<03:01, 711.02it/s]\n",
      "  0%|          | 31/192000 [00:00<10:27, 306.15it/s]"
     ]
    },
    {
     "name": "stdout",
     "output_type": "stream",
     "text": [
      "Error: 9.99424755489\n",
      "running for z=0.855263157895\n"
     ]
    },
    {
     "name": "stderr",
     "output_type": "stream",
     "text": [
      " 33%|███▎      | 64192/192000 [01:14<02:27, 864.24it/s]\n",
      "  0%|          | 51/192000 [00:00<06:23, 500.53it/s]"
     ]
    },
    {
     "name": "stdout",
     "output_type": "stream",
     "text": [
      "Error: 9.99179146477\n",
      "running for z=0.807894736842\n"
     ]
    },
    {
     "name": "stderr",
     "output_type": "stream",
     "text": [
      " 35%|███▌      | 67904/192000 [01:18<02:23, 862.02it/s] \n",
      "  0%|          | 53/192000 [00:00<06:04, 525.96it/s]"
     ]
    },
    {
     "name": "stdout",
     "output_type": "stream",
     "text": [
      "Error: 9.99774378037\n",
      "running for z=0.760526315789\n"
     ]
    },
    {
     "name": "stderr",
     "output_type": "stream",
     "text": [
      " 38%|███▊      | 73152/192000 [01:14<02:00, 985.55it/s] \n",
      "  0%|          | 57/192000 [00:00<05:39, 564.70it/s]"
     ]
    },
    {
     "name": "stdout",
     "output_type": "stream",
     "text": [
      "Error: 9.99472224237\n",
      "running for z=0.713157894737\n"
     ]
    },
    {
     "name": "stderr",
     "output_type": "stream",
     "text": [
      " 41%|████      | 78912/192000 [01:15<01:48, 1045.17it/s]\n",
      "  0%|          | 56/192000 [00:00<05:46, 553.38it/s]"
     ]
    },
    {
     "name": "stdout",
     "output_type": "stream",
     "text": [
      "Error: 9.99434606803\n",
      "running for z=0.665789473684\n"
     ]
    },
    {
     "name": "stderr",
     "output_type": "stream",
     "text": [
      " 43%|████▎     | 82240/192000 [01:17<01:43, 1056.73it/s]\n",
      "  0%|          | 56/192000 [00:00<05:55, 540.26it/s]"
     ]
    },
    {
     "name": "stdout",
     "output_type": "stream",
     "text": [
      "Error: 9.99656238184\n",
      "running for z=0.618421052632\n"
     ]
    },
    {
     "name": "stderr",
     "output_type": "stream",
     "text": [
      " 47%|████▋     | 89344/192000 [01:16<01:27, 1170.49it/s]\n",
      "  0%|          | 51/192000 [00:00<06:19, 506.15it/s]"
     ]
    },
    {
     "name": "stdout",
     "output_type": "stream",
     "text": [
      "Error: 9.99907645517\n",
      "running for z=0.571052631579\n"
     ]
    },
    {
     "name": "stderr",
     "output_type": "stream",
     "text": [
      " 53%|█████▎    | 101440/192000 [01:22<01:13, 1225.23it/s]\n"
     ]
    },
    {
     "name": "stdout",
     "output_type": "stream",
     "text": [
      "Error: 9.99474598343\n",
      "running for z=0.523684210526\n"
     ]
    },
    {
     "name": "stderr",
     "output_type": "stream",
     "text": [
      " 58%|█████▊    | 110784/192000 [01:37<01:11, 1141.39it/s]\n",
      "  0%|          | 55/192000 [00:00<05:50, 547.44it/s]"
     ]
    },
    {
     "name": "stdout",
     "output_type": "stream",
     "text": [
      "Error: 9.99507424991\n",
      "running for z=0.476315789474\n"
     ]
    },
    {
     "name": "stderr",
     "output_type": "stream",
     "text": [
      " 66%|██████▌   | 126336/192000 [01:41<00:52, 1249.25it/s]\n",
      "  0%|          | 60/192000 [00:00<05:20, 598.60it/s]"
     ]
    },
    {
     "name": "stdout",
     "output_type": "stream",
     "text": [
      "Error: 9.99809594991\n",
      "running for z=0.428947368421\n"
     ]
    },
    {
     "name": "stderr",
     "output_type": "stream",
     "text": [
      " 74%|███████▍  | 142848/192000 [01:50<00:38, 1287.44it/s]\n",
      "  0%|          | 61/192000 [00:00<05:17, 604.41it/s]"
     ]
    },
    {
     "name": "stdout",
     "output_type": "stream",
     "text": [
      "Error: 9.99602674591\n",
      "running for z=0.381578947368\n"
     ]
    },
    {
     "name": "stderr",
     "output_type": "stream",
     "text": [
      " 85%|████████▍ | 162688/192000 [01:48<00:19, 1498.18it/s]\n",
      "  0%|          | 78/192000 [00:00<04:07, 775.19it/s]"
     ]
    },
    {
     "name": "stdout",
     "output_type": "stream",
     "text": [
      "Error: 9.99775613519\n",
      "running for z=0.334210526316\n"
     ]
    },
    {
     "name": "stderr",
     "output_type": "stream",
     "text": [
      "100%|██████████| 192000/192000 [02:04<00:00, 1543.97it/s]\n",
      "  0%|          | 71/192000 [00:00<04:30, 709.97it/s]"
     ]
    },
    {
     "name": "stdout",
     "output_type": "stream",
     "text": [
      "Error: 10.8165762891\n",
      "running for z=0.286842105263\n"
     ]
    },
    {
     "name": "stderr",
     "output_type": "stream",
     "text": [
      "100%|██████████| 192000/192000 [01:48<00:00, 1762.95it/s]\n",
      "  0%|          | 72/192000 [00:00<04:27, 718.78it/s]"
     ]
    },
    {
     "name": "stdout",
     "output_type": "stream",
     "text": [
      "Error: 12.6934303496\n",
      "running for z=0.239473684211\n"
     ]
    },
    {
     "name": "stderr",
     "output_type": "stream",
     "text": [
      "100%|██████████| 192000/192000 [01:35<00:00, 2020.86it/s]\n",
      "  0%|          | 82/192000 [00:00<03:54, 819.24it/s]"
     ]
    },
    {
     "name": "stdout",
     "output_type": "stream",
     "text": [
      "Error: 16.5669191555\n",
      "running for z=0.192105263158\n"
     ]
    },
    {
     "name": "stderr",
     "output_type": "stream",
     "text": [
      "100%|██████████| 192000/192000 [01:16<00:00, 2507.11it/s]\n",
      "  0%|          | 103/192000 [00:00<03:06, 1028.75it/s]"
     ]
    },
    {
     "name": "stdout",
     "output_type": "stream",
     "text": [
      "Error: 22.9261415158\n",
      "running for z=0.144736842105\n"
     ]
    },
    {
     "name": "stderr",
     "output_type": "stream",
     "text": [
      "100%|██████████| 192000/192000 [01:00<00:00, 3190.93it/s]\n",
      "  0%|          | 143/192000 [00:00<02:14, 1429.80it/s]"
     ]
    },
    {
     "name": "stdout",
     "output_type": "stream",
     "text": [
      "Error: 34.7288629207\n",
      "running for z=0.0973684210526\n"
     ]
    },
    {
     "name": "stderr",
     "output_type": "stream",
     "text": [
      "100%|██████████| 192000/192000 [00:48<00:00, 3939.92it/s]\n",
      "  0%|          | 180/192000 [00:00<01:46, 1799.64it/s]"
     ]
    },
    {
     "name": "stdout",
     "output_type": "stream",
     "text": [
      "Error: 70.6054886851\n",
      "running for z=0.05\n"
     ]
    },
    {
     "name": "stderr",
     "output_type": "stream",
     "text": [
      "100%|██████████| 192000/192000 [00:39<00:00, 4871.64it/s]\n"
     ]
    },
    {
     "name": "stdout",
     "output_type": "stream",
     "text": [
      "Error: 191.778419575\n"
     ]
    },
    {
     "data": {
      "image/png": "[encoded data removed]",
      "text/plain": [
       "<matplotlib.figure.Figure at 0x10eae7090>"
      ]
     },
     "metadata": {},
     "output_type": "display_data"
    }
   ],
   "source": [
    "N_z = 20\n",
    "zs = np.linspace(0.05, 0.95, N_z)\n",
    "MAX_EPOCHS = 3000\n",
    "TH_ERR = 10.0\n",
    "\n",
    "epochs = np.array([])\n",
    "for z in zs[::-1]:\n",
    "    print 'running for z={}'.format(z)\n",
    "    model = Autoencoder(input_layers=N, z=z, w_norm=False)\n",
    "    best_results = try_run(model, MAX_EPOCHS, th_err=TH_ERR, viz=False)\n",
    "    epochs = np.append(epochs, best_results['epoch'])\n",
    "    print 'Error:', best_results['min_err']\n",
    "    \n",
    "plt.plot(zs[::-1], epochs)\n",
    "plt.title('Iterations to achieve error {}'.format(TH_ERR))\n",
    "plt.xlabel('Z')\n",
    "plt.ylabel('Iterations')\n",
    "plt.show()"
   ]
  },
  {
   "cell_type": "markdown",
   "metadata": {},
   "source": [
    "Без нормализации весов ошибка на небольших коэффициентах сжатия значительно лучше, чем со включенной нормализацией. Помимо прочего, сходимость на более высоких значениях `Z` также быстрее"
   ]
  },
  {
   "cell_type": "markdown",
   "metadata": {},
   "source": [
    "`w_norm`: False\n",
    "\n",
    "`dynamic_lr`: False ($\\alpha = 0.005$)"
   ]
  },
  {
   "cell_type": "code",
   "execution_count": 29,
   "metadata": {},
   "outputs": [
    {
     "name": "stderr",
     "output_type": "stream",
     "text": [
      "\r",
      "  0%|          | 0/192000 [00:00<?, ?it/s]"
     ]
    },
    {
     "name": "stdout",
     "output_type": "stream",
     "text": [
      "running for z=0.95\n"
     ]
    },
    {
     "name": "stderr",
     "output_type": "stream",
     "text": [
      "  2%|▏         | 4160/192000 [00:05<03:51, 810.28it/s]\n",
      "  0%|          | 43/192000 [00:00<07:34, 422.52it/s]"
     ]
    },
    {
     "name": "stdout",
     "output_type": "stream",
     "text": [
      "Error: 9.92595090666\n",
      "running for z=0.902631578947\n"
     ]
    },
    {
     "name": "stderr",
     "output_type": "stream",
     "text": [
      "  2%|▏         | 4416/192000 [00:05<03:38, 856.69it/s]\n",
      "  0%|          | 45/192000 [00:00<07:07, 448.57it/s]"
     ]
    },
    {
     "name": "stdout",
     "output_type": "stream",
     "text": [
      "Error: 9.94448285123\n",
      "running for z=0.855263157895\n"
     ]
    },
    {
     "name": "stderr",
     "output_type": "stream",
     "text": [
      "  2%|▏         | 4416/192000 [00:04<03:27, 903.22it/s]\n",
      "  0%|          | 46/192000 [00:00<06:58, 458.14it/s]"
     ]
    },
    {
     "name": "stdout",
     "output_type": "stream",
     "text": [
      "Error: 9.86014520636\n",
      "running for z=0.807894736842\n"
     ]
    },
    {
     "name": "stderr",
     "output_type": "stream",
     "text": [
      "  2%|▏         | 4672/192000 [00:04<03:17, 950.75it/s]\n",
      "  0%|          | 46/192000 [00:00<07:01, 455.35it/s]"
     ]
    },
    {
     "name": "stdout",
     "output_type": "stream",
     "text": [
      "Error: 9.91217507424\n",
      "running for z=0.760526315789\n"
     ]
    },
    {
     "name": "stderr",
     "output_type": "stream",
     "text": [
      "  3%|▎         | 5056/192000 [00:05<03:16, 953.51it/s] \n",
      "  0%|          | 46/192000 [00:00<07:01, 455.36it/s]"
     ]
    },
    {
     "name": "stdout",
     "output_type": "stream",
     "text": [
      "Error: 9.97469822145\n",
      "running for z=0.713157894737\n"
     ]
    },
    {
     "name": "stderr",
     "output_type": "stream",
     "text": [
      "  3%|▎         | 5312/192000 [00:05<03:00, 1032.66it/s]\n",
      "  0%|          | 39/192000 [00:00<08:22, 382.24it/s]"
     ]
    },
    {
     "name": "stdout",
     "output_type": "stream",
     "text": [
      "Error: 9.9410151547\n",
      "running for z=0.665789473684\n"
     ]
    },
    {
     "name": "stderr",
     "output_type": "stream",
     "text": [
      "  3%|▎         | 5760/192000 [00:05<03:01, 1025.96it/s]\n",
      "  0%|          | 49/192000 [00:00<06:34, 485.99it/s]"
     ]
    },
    {
     "name": "stdout",
     "output_type": "stream",
     "text": [
      "Error: 9.91253757493\n",
      "running for z=0.618421052632\n"
     ]
    },
    {
     "name": "stderr",
     "output_type": "stream",
     "text": [
      "  3%|▎         | 6016/192000 [00:05<02:40, 1155.57it/s]\n",
      "  0%|          | 50/192000 [00:00<06:25, 498.13it/s]"
     ]
    },
    {
     "name": "stdout",
     "output_type": "stream",
     "text": [
      "Error: 9.93167008611\n",
      "running for z=0.571052631579\n"
     ]
    },
    {
     "name": "stderr",
     "output_type": "stream",
     "text": [
      "  3%|▎         | 6592/192000 [00:05<02:26, 1264.80it/s]\n",
      "  0%|          | 57/192000 [00:00<05:38, 567.00it/s]"
     ]
    },
    {
     "name": "stdout",
     "output_type": "stream",
     "text": [
      "Error: 9.93716437249\n",
      "running for z=0.523684210526\n"
     ]
    },
    {
     "name": "stderr",
     "output_type": "stream",
     "text": [
      "  4%|▎         | 6912/192000 [00:05<02:15, 1365.39it/s]\n",
      "  0%|          | 56/192000 [00:00<05:45, 556.06it/s]"
     ]
    },
    {
     "name": "stdout",
     "output_type": "stream",
     "text": [
      "Error: 9.95483636238\n",
      "running for z=0.476315789474\n"
     ]
    },
    {
     "name": "stderr",
     "output_type": "stream",
     "text": [
      "  4%|▍         | 8000/192000 [00:05<02:09, 1425.78it/s]\n",
      "  0%|          | 53/192000 [00:00<06:07, 522.93it/s]"
     ]
    },
    {
     "name": "stdout",
     "output_type": "stream",
     "text": [
      "Error: 9.96648115806\n",
      "running for z=0.428947368421\n"
     ]
    },
    {
     "name": "stderr",
     "output_type": "stream",
     "text": [
      "  5%|▍         | 8704/192000 [00:05<01:59, 1534.35it/s]\n",
      "  0%|          | 61/192000 [00:00<05:16, 605.81it/s]"
     ]
    },
    {
     "name": "stdout",
     "output_type": "stream",
     "text": [
      "Error: 9.96362587588\n",
      "running for z=0.381578947368\n"
     ]
    },
    {
     "name": "stderr",
     "output_type": "stream",
     "text": [
      "  5%|▍         | 9536/192000 [00:05<01:47, 1695.31it/s]\n",
      "  0%|          | 62/192000 [00:00<05:12, 613.65it/s]"
     ]
    },
    {
     "name": "stdout",
     "output_type": "stream",
     "text": [
      "Error: 9.99972739689\n",
      "running for z=0.334210526316\n"
     ]
    },
    {
     "name": "stderr",
     "output_type": "stream",
     "text": [
      "  6%|▌         | 11328/192000 [00:06<01:36, 1867.68it/s]\n",
      "  0%|          | 62/192000 [00:00<05:11, 616.39it/s]"
     ]
    },
    {
     "name": "stdout",
     "output_type": "stream",
     "text": [
      "Error: 9.9662877856\n",
      "running for z=0.286842105263\n"
     ]
    },
    {
     "name": "stderr",
     "output_type": "stream",
     "text": [
      "  7%|▋         | 13504/192000 [00:06<01:27, 2032.86it/s]\n",
      "  0%|          | 63/192000 [00:00<05:06, 625.53it/s]"
     ]
    },
    {
     "name": "stdout",
     "output_type": "stream",
     "text": [
      "Error: 9.98841607564\n",
      "running for z=0.239473684211\n"
     ]
    },
    {
     "name": "stderr",
     "output_type": "stream",
     "text": [
      "  9%|▉         | 17216/192000 [00:07<01:14, 2349.39it/s]\n",
      "  0%|          | 84/192000 [00:00<03:48, 839.06it/s]"
     ]
    },
    {
     "name": "stdout",
     "output_type": "stream",
     "text": [
      "Error: 9.99775669851\n",
      "running for z=0.192105263158\n"
     ]
    },
    {
     "name": "stderr",
     "output_type": "stream",
     "text": [
      " 13%|█▎        | 24064/192000 [00:08<01:00, 2793.33it/s]\n",
      "  0%|          | 98/192000 [00:00<03:16, 977.18it/s]"
     ]
    },
    {
     "name": "stdout",
     "output_type": "stream",
     "text": [
      "Error: 9.98176346676\n",
      "running for z=0.144736842105\n"
     ]
    },
    {
     "name": "stderr",
     "output_type": "stream",
     "text": [
      " 26%|██▌       | 49792/192000 [00:15<00:43, 3289.21it/s]\n",
      "  0%|          | 130/192000 [00:00<02:27, 1298.64it/s]"
     ]
    },
    {
     "name": "stdout",
     "output_type": "stream",
     "text": [
      "Error: 9.99795329629\n",
      "running for z=0.0973684210526\n"
     ]
    },
    {
     "name": "stderr",
     "output_type": "stream",
     "text": [
      "100%|██████████| 192000/192000 [00:46<00:00, 4154.12it/s]\n",
      "  0%|          | 179/192000 [00:00<01:47, 1789.60it/s]"
     ]
    },
    {
     "name": "stdout",
     "output_type": "stream",
     "text": [
      "Error: 32.5754540626\n",
      "running for z=0.05\n"
     ]
    },
    {
     "name": "stderr",
     "output_type": "stream",
     "text": [
      "100%|██████████| 192000/192000 [00:37<00:00, 5130.64it/s]\n"
     ]
    },
    {
     "name": "stdout",
     "output_type": "stream",
     "text": [
      "Error: 123.427264027\n"
     ]
    },
    {
     "data": {
      "image/png": "[encoded data removed]",
      "text/plain": [
       "<matplotlib.figure.Figure at 0x109b384d0>"
      ]
     },
     "metadata": {},
     "output_type": "display_data"
    }
   ],
   "source": [
    "N_z = 20\n",
    "zs = np.linspace(0.05, 0.95, N_z)\n",
    "MAX_EPOCHS = 3000\n",
    "TH_ERR = 10.0\n",
    "\n",
    "epochs = np.array([])\n",
    "for z in zs[::-1]:\n",
    "    print 'running for z={}'.format(z)\n",
    "    model = Autoencoder(input_layers=N, z=z, w_norm=False, dynamic_lr=False, lr=0.005)\n",
    "    best_results = try_run(model, MAX_EPOCHS, th_err=TH_ERR, viz=False)\n",
    "    epochs = np.append(epochs, best_results['epoch'])\n",
    "    print 'Error:', best_results['min_err']\n",
    "    \n",
    "plt.plot(zs[::-1], epochs)\n",
    "plt.title('Iterations to achieve error {}'.format(TH_ERR))\n",
    "plt.xlabel('Z')\n",
    "plt.ylabel('Iterations')\n",
    "plt.show()"
   ]
  },
  {
   "cell_type": "markdown",
   "metadata": {},
   "source": [
    "С правильно подобранным $\\alpha$ результат становится еще лучше (быстрее сходится и в целом, и на малых `Z`)"
   ]
  },
  {
   "cell_type": "markdown",
   "metadata": {},
   "source": [
    "`w_norm`: True\n",
    "\n",
    "`dynamic_lr`: False ($\\alpha = 0.005$)"
   ]
  },
  {
   "cell_type": "code",
   "execution_count": 28,
   "metadata": {},
   "outputs": [
    {
     "name": "stderr",
     "output_type": "stream",
     "text": [
      "  0%|          | 32/192000 [00:00<10:05, 316.89it/s]"
     ]
    },
    {
     "name": "stdout",
     "output_type": "stream",
     "text": [
      "running for z=0.95\n"
     ]
    },
    {
     "name": "stderr",
     "output_type": "stream",
     "text": [
      "  3%|▎         | 4864/192000 [00:08<05:39, 550.97it/s]\n",
      "  0%|          | 33/192000 [00:00<09:51, 324.77it/s]"
     ]
    },
    {
     "name": "stdout",
     "output_type": "stream",
     "text": [
      "Error: 9.9131313894\n",
      "running for z=0.902631578947\n"
     ]
    },
    {
     "name": "stderr",
     "output_type": "stream",
     "text": [
      "  3%|▎         | 5184/192000 [00:09<05:37, 552.78it/s]\n",
      "  0%|          | 27/192000 [00:00<12:27, 256.84it/s]"
     ]
    },
    {
     "name": "stdout",
     "output_type": "stream",
     "text": [
      "Error: 9.8837381121\n",
      "running for z=0.855263157895\n"
     ]
    },
    {
     "name": "stderr",
     "output_type": "stream",
     "text": [
      "  3%|▎         | 5184/192000 [00:08<05:01, 618.94it/s]\n",
      "  0%|          | 32/192000 [00:00<10:02, 318.47it/s]"
     ]
    },
    {
     "name": "stdout",
     "output_type": "stream",
     "text": [
      "Error: 9.98663027636\n",
      "running for z=0.807894736842\n"
     ]
    },
    {
     "name": "stderr",
     "output_type": "stream",
     "text": [
      "  3%|▎         | 5952/192000 [00:09<04:43, 655.60it/s]\n",
      "  0%|          | 42/192000 [00:00<07:44, 413.32it/s]"
     ]
    },
    {
     "name": "stdout",
     "output_type": "stream",
     "text": [
      "Error: 9.91820674508\n",
      "running for z=0.760526315789\n"
     ]
    },
    {
     "name": "stderr",
     "output_type": "stream",
     "text": [
      "  3%|▎         | 6656/192000 [00:09<04:29, 686.94it/s]\n",
      "  0%|          | 26/192000 [00:00<12:43, 251.54it/s]"
     ]
    },
    {
     "name": "stdout",
     "output_type": "stream",
     "text": [
      "Error: 9.96758856182\n",
      "running for z=0.713157894737\n"
     ]
    },
    {
     "name": "stderr",
     "output_type": "stream",
     "text": [
      "  4%|▎         | 6912/192000 [00:10<04:31, 681.95it/s]\n",
      "  0%|          | 38/192000 [00:00<08:36, 371.94it/s]"
     ]
    },
    {
     "name": "stdout",
     "output_type": "stream",
     "text": [
      "Error: 9.96732347235\n",
      "running for z=0.665789473684\n"
     ]
    },
    {
     "name": "stderr",
     "output_type": "stream",
     "text": [
      "  5%|▍         | 8960/192000 [00:12<04:10, 730.33it/s]\n",
      "  0%|          | 40/192000 [00:00<08:05, 395.09it/s]"
     ]
    },
    {
     "name": "stdout",
     "output_type": "stream",
     "text": [
      "Error: 9.95993551898\n",
      "running for z=0.618421052632\n"
     ]
    },
    {
     "name": "stderr",
     "output_type": "stream",
     "text": [
      "  5%|▍         | 9408/192000 [00:12<04:11, 725.13it/s]\n",
      "  0%|          | 30/192000 [00:00<11:13, 285.12it/s]"
     ]
    },
    {
     "name": "stdout",
     "output_type": "stream",
     "text": [
      "Error: 9.96703082353\n",
      "running for z=0.571052631579\n"
     ]
    },
    {
     "name": "stderr",
     "output_type": "stream",
     "text": [
      "  6%|▌         | 10688/192000 [00:12<03:28, 870.50it/s]\n",
      "  0%|          | 47/192000 [00:00<06:49, 469.21it/s]"
     ]
    },
    {
     "name": "stdout",
     "output_type": "stream",
     "text": [
      "Error: 9.93409072964\n",
      "running for z=0.523684210526\n"
     ]
    },
    {
     "name": "stderr",
     "output_type": "stream",
     "text": [
      "  7%|▋         | 13824/192000 [00:17<03:39, 810.64it/s] \n",
      "  0%|          | 44/192000 [00:00<07:17, 438.80it/s]"
     ]
    },
    {
     "name": "stdout",
     "output_type": "stream",
     "text": [
      "Error: 9.99606158828\n",
      "running for z=0.476315789474\n"
     ]
    },
    {
     "name": "stderr",
     "output_type": "stream",
     "text": [
      " 10%|█         | 19200/192000 [00:17<02:39, 1081.81it/s]\n",
      "  0%|          | 52/192000 [00:00<06:11, 516.24it/s]"
     ]
    },
    {
     "name": "stdout",
     "output_type": "stream",
     "text": [
      "Error: 9.91811931371\n",
      "running for z=0.428947368421\n"
     ]
    },
    {
     "name": "stderr",
     "output_type": "stream",
     "text": [
      " 13%|█▎        | 24960/192000 [00:21<02:24, 1152.18it/s]\n",
      "  0%|          | 52/192000 [00:00<06:14, 512.46it/s]"
     ]
    },
    {
     "name": "stdout",
     "output_type": "stream",
     "text": [
      "Error: 9.9986093364\n",
      "running for z=0.381578947368\n"
     ]
    },
    {
     "name": "stderr",
     "output_type": "stream",
     "text": [
      " 33%|███▎      | 63360/192000 [00:51<01:44, 1236.29it/s]\n",
      "  0%|          | 53/192000 [00:00<06:06, 523.82it/s]"
     ]
    },
    {
     "name": "stdout",
     "output_type": "stream",
     "text": [
      "Error: 9.97146726304\n",
      "running for z=0.334210526316\n"
     ]
    },
    {
     "name": "stderr",
     "output_type": "stream",
     "text": [
      "100%|██████████| 192000/192000 [02:21<00:00, 1360.18it/s]\n",
      "  0%|          | 57/192000 [00:00<05:39, 564.67it/s]"
     ]
    },
    {
     "name": "stdout",
     "output_type": "stream",
     "text": [
      "Error: 90449.070168\n",
      "running for z=0.286842105263\n"
     ]
    },
    {
     "name": "stderr",
     "output_type": "stream",
     "text": [
      "100%|██████████| 192000/192000 [02:06<00:00, 1517.77it/s]\n",
      "  0%|          | 58/192000 [00:00<05:34, 573.33it/s]"
     ]
    },
    {
     "name": "stdout",
     "output_type": "stream",
     "text": [
      "Error: 30691403.2282\n",
      "running for z=0.239473684211\n"
     ]
    },
    {
     "name": "stderr",
     "output_type": "stream",
     "text": [
      "100%|██████████| 192000/192000 [01:49<00:00, 1756.59it/s]\n",
      "  0%|          | 63/192000 [00:00<05:08, 622.33it/s]"
     ]
    },
    {
     "name": "stdout",
     "output_type": "stream",
     "text": [
      "Error: 30652236.9118\n",
      "running for z=0.192105263158\n"
     ]
    },
    {
     "name": "stderr",
     "output_type": "stream",
     "text": [
      "100%|██████████| 192000/192000 [01:34<00:00, 2034.16it/s]\n",
      "  0%|          | 63/192000 [00:00<05:07, 625.14it/s]"
     ]
    },
    {
     "name": "stdout",
     "output_type": "stream",
     "text": [
      "Error: 86389392.1948\n",
      "running for z=0.144736842105\n"
     ]
    },
    {
     "name": "stderr",
     "output_type": "stream",
     "text": [
      "100%|██████████| 192000/192000 [01:19<00:00, 2422.94it/s]\n",
      "  0%|          | 78/192000 [00:00<04:06, 778.49it/s]"
     ]
    },
    {
     "name": "stdout",
     "output_type": "stream",
     "text": [
      "Error: 91911018.2061\n",
      "running for z=0.0973684210526\n"
     ]
    },
    {
     "name": "stderr",
     "output_type": "stream",
     "text": [
      "100%|██████████| 192000/192000 [01:03<00:00, 3006.33it/s]\n",
      "  0%|          | 94/192000 [00:00<03:24, 938.97it/s]"
     ]
    },
    {
     "name": "stdout",
     "output_type": "stream",
     "text": [
      "Error: 98529011.6745\n",
      "running for z=0.05\n"
     ]
    },
    {
     "name": "stderr",
     "output_type": "stream",
     "text": [
      "100%|██████████| 192000/192000 [00:54<00:00, 3540.17it/s]\n"
     ]
    },
    {
     "name": "stdout",
     "output_type": "stream",
     "text": [
      "Error: 102181168.197\n"
     ]
    },
    {
     "data": {
      "image/png": "[encoded data removed]",
      "text/plain": [
       "<matplotlib.figure.Figure at 0x1047ce6d0>"
      ]
     },
     "metadata": {},
     "output_type": "display_data"
    }
   ],
   "source": [
    "N_z = 20\n",
    "zs = np.linspace(0.05, 0.95, N_z)\n",
    "MAX_EPOCHS = 3000\n",
    "TH_ERR = 10.0\n",
    "\n",
    "epochs = np.array([])\n",
    "for z in zs[::-1]:\n",
    "    print 'running for z={}'.format(z)\n",
    "    model = Autoencoder(input_layers=N, z=z, w_norm=True, dynamic_lr=False, lr=0.005)\n",
    "    best_results = try_run(model, MAX_EPOCHS, th_err=TH_ERR, viz=False)\n",
    "    epochs = np.append(epochs, best_results['epoch'])\n",
    "    print 'Error:', best_results['min_err']\n",
    "    \n",
    "plt.plot(zs[::-1], epochs)\n",
    "plt.title('Iterations to achieve error {}'.format(TH_ERR))\n",
    "plt.xlabel('Z')\n",
    "plt.ylabel('Iterations')\n",
    "plt.show()"
   ]
  },
  {
   "cell_type": "markdown",
   "metadata": {},
   "source": [
    "С нормировкой весов и фиксированным $\\alpha$ наблюдается резкий скачок в районе $Z \\approx 0.4$ к быстрейшей сходимости"
   ]
  },
  {
   "cell_type": "markdown",
   "metadata": {},
   "source": [
    "Построим зависимости сходимости от пробега по $\\alpha$:"
   ]
  },
  {
   "cell_type": "code",
   "execution_count": 24,
   "metadata": {},
   "outputs": [
    {
     "name": "stderr",
     "output_type": "stream",
     "text": [
      "  0%|          | 42/192000 [00:00<07:43, 414.12it/s]/Users/chiselko6/anaconda/lib/python2.7/site-packages/ipykernel_launcher.py:44: RuntimeWarning: invalid value encountered in subtract\n",
      "  0%|          | 64/192000 [00:00<08:12, 389.45it/s]\n",
      "  0%|          | 0/192000 [00:00<?, ?it/s]"
     ]
    },
    {
     "name": "stdout",
     "output_type": "stream",
     "text": [
      "running for alpha=0.01\n",
      "Error:  inf\n",
      "running for alpha=0.00947373684211\n"
     ]
    },
    {
     "name": "stderr",
     "output_type": "stream",
     "text": [
      "  0%|          | 64/192000 [00:00<07:52, 406.55it/s]\n",
      "  0%|          | 46/192000 [00:00<06:58, 458.85it/s]"
     ]
    },
    {
     "name": "stdout",
     "output_type": "stream",
     "text": [
      "Error:  inf\n",
      "running for alpha=0.00894747368421\n"
     ]
    },
    {
     "name": "stderr",
     "output_type": "stream",
     "text": [
      "  3%|▎         | 4864/192000 [00:04<03:03, 1019.58it/s]\n",
      "  0%|          | 38/192000 [00:00<08:34, 372.78it/s]"
     ]
    },
    {
     "name": "stdout",
     "output_type": "stream",
     "text": [
      "Error:  9.80886233081\n",
      "running for alpha=0.00842121052632\n"
     ]
    },
    {
     "name": "stderr",
     "output_type": "stream",
     "text": [
      "  3%|▎         | 4992/192000 [00:04<03:01, 1030.04it/s]\n",
      "  0%|          | 48/192000 [00:00<06:42, 477.47it/s]"
     ]
    },
    {
     "name": "stdout",
     "output_type": "stream",
     "text": [
      "Error:  9.92261877779\n",
      "running for alpha=0.00789494736842\n"
     ]
    },
    {
     "name": "stderr",
     "output_type": "stream",
     "text": [
      "  3%|▎         | 5312/192000 [00:05<03:01, 1026.83it/s]\n",
      "  0%|          | 36/192000 [00:00<09:00, 355.31it/s]"
     ]
    },
    {
     "name": "stdout",
     "output_type": "stream",
     "text": [
      "Error:  9.9789332273\n",
      "running for alpha=0.00736868421053\n"
     ]
    },
    {
     "name": "stderr",
     "output_type": "stream",
     "text": [
      "  3%|▎         | 5120/192000 [00:04<02:47, 1114.63it/s]\n",
      "  0%|          | 50/192000 [00:00<06:27, 495.42it/s]"
     ]
    },
    {
     "name": "stdout",
     "output_type": "stream",
     "text": [
      "Error:  9.89439765325\n",
      "running for alpha=0.00684242105263\n"
     ]
    },
    {
     "name": "stderr",
     "output_type": "stream",
     "text": [
      "  3%|▎         | 5120/192000 [00:06<03:42, 838.30it/s] \n",
      "  0%|          | 35/192000 [00:00<09:13, 346.85it/s]"
     ]
    },
    {
     "name": "stdout",
     "output_type": "stream",
     "text": [
      "Error:  9.96153964232\n",
      "running for alpha=0.00631615789474\n"
     ]
    },
    {
     "name": "stderr",
     "output_type": "stream",
     "text": [
      "  3%|▎         | 5440/192000 [00:05<03:15, 954.84it/s] \n",
      "  0%|          | 47/192000 [00:00<06:51, 466.11it/s]"
     ]
    },
    {
     "name": "stdout",
     "output_type": "stream",
     "text": [
      "Error:  9.88606615225\n",
      "running for alpha=0.00578989473684\n"
     ]
    },
    {
     "name": "stderr",
     "output_type": "stream",
     "text": [
      "  3%|▎         | 5696/192000 [00:05<02:56, 1056.14it/s]\n",
      "  0%|          | 49/192000 [00:00<06:33, 487.38it/s]"
     ]
    },
    {
     "name": "stdout",
     "output_type": "stream",
     "text": [
      "Error:  9.92576178844\n",
      "running for alpha=0.00526363157895\n"
     ]
    },
    {
     "name": "stderr",
     "output_type": "stream",
     "text": [
      "  3%|▎         | 6016/192000 [00:05<02:59, 1038.65it/s]\n",
      "  0%|          | 41/192000 [00:00<08:02, 398.15it/s]"
     ]
    },
    {
     "name": "stdout",
     "output_type": "stream",
     "text": [
      "Error:  9.90966402867\n",
      "running for alpha=0.00473736842105\n"
     ]
    },
    {
     "name": "stderr",
     "output_type": "stream",
     "text": [
      "  3%|▎         | 6400/192000 [00:06<02:54, 1065.51it/s]\n",
      "  0%|          | 42/192000 [00:00<07:47, 410.61it/s]"
     ]
    },
    {
     "name": "stdout",
     "output_type": "stream",
     "text": [
      "Error:  9.97829085851\n",
      "running for alpha=0.00421110526316\n"
     ]
    },
    {
     "name": "stderr",
     "output_type": "stream",
     "text": [
      "  4%|▎         | 6976/192000 [00:06<02:40, 1154.00it/s]\n",
      "  0%|          | 51/192000 [00:00<06:19, 505.99it/s]"
     ]
    },
    {
     "name": "stdout",
     "output_type": "stream",
     "text": [
      "Error:  9.97102422667\n",
      "running for alpha=0.00368484210526\n"
     ]
    },
    {
     "name": "stderr",
     "output_type": "stream",
     "text": [
      "  4%|▍         | 7744/192000 [00:06<02:32, 1208.44it/s]\n",
      "  0%|          | 49/192000 [00:00<06:34, 486.65it/s]"
     ]
    },
    {
     "name": "stdout",
     "output_type": "stream",
     "text": [
      "Error:  9.97304148298\n",
      "running for alpha=0.00315857894737\n"
     ]
    },
    {
     "name": "stderr",
     "output_type": "stream",
     "text": [
      "  5%|▍         | 8832/192000 [00:07<02:30, 1213.76it/s]\n",
      "  0%|          | 48/192000 [00:00<06:45, 473.32it/s]"
     ]
    },
    {
     "name": "stdout",
     "output_type": "stream",
     "text": [
      "Error:  9.9333958673\n",
      "running for alpha=0.00263231578947\n"
     ]
    },
    {
     "name": "stderr",
     "output_type": "stream",
     "text": [
      "  5%|▌         | 10304/192000 [00:08<02:29, 1213.31it/s]\n",
      "  0%|          | 52/192000 [00:00<06:09, 519.61it/s]"
     ]
    },
    {
     "name": "stdout",
     "output_type": "stream",
     "text": [
      "Error:  9.97233315925\n",
      "running for alpha=0.00210605263158\n"
     ]
    },
    {
     "name": "stderr",
     "output_type": "stream",
     "text": [
      "  7%|▋         | 12608/192000 [00:10<02:26, 1221.01it/s]\n",
      "  0%|          | 49/192000 [00:00<06:34, 486.17it/s]"
     ]
    },
    {
     "name": "stdout",
     "output_type": "stream",
     "text": [
      "Error:  9.95839812525\n",
      "running for alpha=0.00157978947368\n"
     ]
    },
    {
     "name": "stderr",
     "output_type": "stream",
     "text": [
      "  9%|▊         | 16448/192000 [00:13<02:24, 1211.07it/s]\n",
      "  0%|          | 49/192000 [00:00<06:31, 489.74it/s]"
     ]
    },
    {
     "name": "stdout",
     "output_type": "stream",
     "text": [
      "Error:  9.96758570776\n",
      "running for alpha=0.00105352631579\n"
     ]
    },
    {
     "name": "stderr",
     "output_type": "stream",
     "text": [
      " 13%|█▎        | 24128/192000 [00:19<02:18, 1213.43it/s]\n",
      "  0%|          | 53/192000 [00:00<06:03, 528.69it/s]"
     ]
    },
    {
     "name": "stdout",
     "output_type": "stream",
     "text": [
      "Error:  9.99653731066\n",
      "running for alpha=0.000527263157895\n"
     ]
    },
    {
     "name": "stderr",
     "output_type": "stream",
     "text": [
      " 25%|██▍       | 47360/192000 [00:38<01:57, 1229.85it/s]\n",
      "  0%|          | 51/192000 [00:00<06:18, 507.59it/s]"
     ]
    },
    {
     "name": "stdout",
     "output_type": "stream",
     "text": [
      "Error:  9.98936437519\n",
      "running for alpha=1e-06\n"
     ]
    },
    {
     "name": "stderr",
     "output_type": "stream",
     "text": [
      "100%|██████████| 192000/192000 [02:37<00:00, 1222.83it/s]\n"
     ]
    },
    {
     "name": "stdout",
     "output_type": "stream",
     "text": [
      "Error:  385.362267498\n"
     ]
    },
    {
     "data": {
      "image/png": "[encoded data removed]",
      "text/plain": [
       "<matplotlib.figure.Figure at 0x10eacb110>"
      ]
     },
     "metadata": {},
     "output_type": "display_data"
    }
   ],
   "source": [
    "N_alpha = 20\n",
    "alphas = np.linspace(1e-6, 1e-2, N_alpha)\n",
    "MAX_EPOCHS = 3000\n",
    "Z = 0.6\n",
    "TH_ERR = 10.0\n",
    "epochs = np.array([])\n",
    "for alpha in alphas[::-1]:\n",
    "    print 'running for alpha={}'.format(alpha)\n",
    "    model = Autoencoder(input_layers=N, z=Z, lr=alpha, w_norm=False, dynamic_lr=False)\n",
    "    best_results = try_run(model, MAX_EPOCHS, th_err=TH_ERR, viz=False)\n",
    "    epochs = np.append(epochs, best_results['epoch'])\n",
    "    print 'Error: ', best_results['min_err']\n",
    "    \n",
    "plt.plot(alphas[::-1], epochs)\n",
    "plt.title('Iterations to achieve error {} with z={}'.format(TH_ERR, Z))\n",
    "plt.xlabel('Alpha')\n",
    "plt.ylabel('Iterations')\n",
    "plt.show()"
   ]
  },
  {
   "cell_type": "code",
   "execution_count": 27,
   "metadata": {},
   "outputs": [
    {
     "name": "stderr",
     "output_type": "stream",
     "text": [
      "  0%|          | 39/64000 [00:00<02:49, 378.13it/s]"
     ]
    },
    {
     "name": "stdout",
     "output_type": "stream",
     "text": [
      "running for alpha=0.01\n"
     ]
    },
    {
     "name": "stderr",
     "output_type": "stream",
     "text": [
      "100%|██████████| 64000/64000 [01:09<00:00, 918.01it/s]\n",
      "  0%|          | 44/64000 [00:00<02:26, 437.60it/s]"
     ]
    },
    {
     "name": "stdout",
     "output_type": "stream",
     "text": [
      "Error:  89399836.4426\n",
      "running for alpha=0.00947373684211\n"
     ]
    },
    {
     "name": "stderr",
     "output_type": "stream",
     "text": [
      "100%|██████████| 64000/64000 [01:09<00:00, 917.43it/s]\n",
      "  0%|          | 41/64000 [00:00<02:36, 408.56it/s]"
     ]
    },
    {
     "name": "stdout",
     "output_type": "stream",
     "text": [
      "Error:  88478629.5696\n",
      "running for alpha=0.00894747368421\n"
     ]
    },
    {
     "name": "stderr",
     "output_type": "stream",
     "text": [
      "100%|██████████| 64000/64000 [01:09<00:00, 925.62it/s]\n",
      "  0%|          | 40/64000 [00:00<02:42, 393.99it/s]"
     ]
    },
    {
     "name": "stdout",
     "output_type": "stream",
     "text": [
      "Error:  87174296.8514\n",
      "running for alpha=0.00842121052632\n"
     ]
    },
    {
     "name": "stderr",
     "output_type": "stream",
     "text": [
      "100%|██████████| 64000/64000 [01:09<00:00, 927.33it/s]\n",
      "  0%|          | 46/64000 [00:00<02:19, 457.00it/s]"
     ]
    },
    {
     "name": "stdout",
     "output_type": "stream",
     "text": [
      "Error:  86681880.4466\n",
      "running for alpha=0.00789494736842\n"
     ]
    },
    {
     "name": "stderr",
     "output_type": "stream",
     "text": [
      "100%|██████████| 64000/64000 [01:09<00:00, 915.18it/s]\n",
      "  0%|          | 46/64000 [00:00<02:20, 455.65it/s]"
     ]
    },
    {
     "name": "stdout",
     "output_type": "stream",
     "text": [
      "Error:  30823419.23\n",
      "running for alpha=0.00736868421053\n"
     ]
    },
    {
     "name": "stderr",
     "output_type": "stream",
     "text": [
      "100%|██████████| 64000/64000 [01:09<00:00, 921.26it/s]\n",
      "  0%|          | 45/64000 [00:00<02:24, 444.05it/s]"
     ]
    },
    {
     "name": "stdout",
     "output_type": "stream",
     "text": [
      "Error:  30507693.4756\n",
      "running for alpha=0.00684242105263\n"
     ]
    },
    {
     "name": "stderr",
     "output_type": "stream",
     "text": [
      "100%|██████████| 64000/64000 [01:09<00:00, 919.90it/s]\n",
      "  0%|          | 45/64000 [00:00<02:22, 449.43it/s]"
     ]
    },
    {
     "name": "stdout",
     "output_type": "stream",
     "text": [
      "Error:  109917.097478\n",
      "running for alpha=0.00631615789474\n"
     ]
    },
    {
     "name": "stderr",
     "output_type": "stream",
     "text": [
      " 17%|█▋        | 11008/64000 [00:11<00:57, 918.76it/s]\n",
      "  0%|          | 46/64000 [00:00<02:21, 452.94it/s]"
     ]
    },
    {
     "name": "stdout",
     "output_type": "stream",
     "text": [
      "Error:  9.76079183172\n",
      "running for alpha=0.00578989473684\n"
     ]
    },
    {
     "name": "stderr",
     "output_type": "stream",
     "text": [
      " 17%|█▋        | 10624/64000 [00:11<00:57, 921.90it/s]\n",
      "  0%|          | 45/64000 [00:00<02:23, 445.14it/s]"
     ]
    },
    {
     "name": "stdout",
     "output_type": "stream",
     "text": [
      "Error:  9.99386879154\n",
      "running for alpha=0.00526363157895\n"
     ]
    },
    {
     "name": "stderr",
     "output_type": "stream",
     "text": [
      " 16%|█▌        | 10176/64000 [00:11<00:58, 922.61it/s]\n",
      "  0%|          | 46/64000 [00:00<02:20, 455.08it/s]"
     ]
    },
    {
     "name": "stdout",
     "output_type": "stream",
     "text": [
      "Error:  9.87008572729\n",
      "running for alpha=0.00473736842105\n"
     ]
    },
    {
     "name": "stderr",
     "output_type": "stream",
     "text": [
      " 16%|█▌        | 10240/64000 [00:11<00:58, 917.83it/s]\n",
      "  0%|          | 45/64000 [00:00<02:23, 446.93it/s]"
     ]
    },
    {
     "name": "stdout",
     "output_type": "stream",
     "text": [
      "Error:  9.99978407562\n",
      "running for alpha=0.00421110526316\n"
     ]
    },
    {
     "name": "stderr",
     "output_type": "stream",
     "text": [
      " 16%|█▌        | 10368/64000 [00:11<00:58, 918.57it/s]\n",
      "  0%|          | 47/64000 [00:00<02:17, 465.00it/s]"
     ]
    },
    {
     "name": "stdout",
     "output_type": "stream",
     "text": [
      "Error:  9.97077184207\n",
      "running for alpha=0.00368484210526\n"
     ]
    },
    {
     "name": "stderr",
     "output_type": "stream",
     "text": [
      " 17%|█▋        | 10752/64000 [00:11<00:57, 918.33it/s]\n",
      "  0%|          | 45/64000 [00:00<02:22, 448.52it/s]"
     ]
    },
    {
     "name": "stdout",
     "output_type": "stream",
     "text": [
      "Error:  9.98614946326\n",
      "running for alpha=0.00315857894737\n"
     ]
    },
    {
     "name": "stderr",
     "output_type": "stream",
     "text": [
      " 18%|█▊        | 11840/64000 [00:13<00:59, 871.88it/s]\n",
      "  0%|          | 34/64000 [00:00<03:08, 339.46it/s]"
     ]
    },
    {
     "name": "stdout",
     "output_type": "stream",
     "text": [
      "Error:  9.96695472801\n",
      "running for alpha=0.00263231578947\n"
     ]
    },
    {
     "name": "stderr",
     "output_type": "stream",
     "text": [
      " 21%|██▏       | 13632/64000 [00:14<00:55, 909.47it/s]\n",
      "  0%|          | 46/64000 [00:00<02:20, 456.32it/s]"
     ]
    },
    {
     "name": "stdout",
     "output_type": "stream",
     "text": [
      "Error:  9.95024961956\n",
      "running for alpha=0.00210605263158\n"
     ]
    },
    {
     "name": "stderr",
     "output_type": "stream",
     "text": [
      " 26%|██▌       | 16448/64000 [00:17<00:51, 919.08it/s]\n",
      "  0%|          | 46/64000 [00:00<02:21, 452.69it/s]"
     ]
    },
    {
     "name": "stdout",
     "output_type": "stream",
     "text": [
      "Error:  9.96597159446\n",
      "running for alpha=0.00157978947368\n"
     ]
    },
    {
     "name": "stderr",
     "output_type": "stream",
     "text": [
      " 33%|███▎      | 21312/64000 [00:23<00:46, 923.31it/s]\n",
      "  0%|          | 45/64000 [00:00<02:27, 434.64it/s]"
     ]
    },
    {
     "name": "stdout",
     "output_type": "stream",
     "text": [
      "Error:  9.97304398247\n",
      "running for alpha=0.00105352631579\n"
     ]
    },
    {
     "name": "stderr",
     "output_type": "stream",
     "text": [
      " 49%|████▊     | 31168/64000 [00:33<00:35, 924.32it/s]\n",
      "  0%|          | 46/64000 [00:00<02:20, 455.87it/s]"
     ]
    },
    {
     "name": "stdout",
     "output_type": "stream",
     "text": [
      "Error:  9.98992659578\n",
      "running for alpha=0.000527263157895\n"
     ]
    },
    {
     "name": "stderr",
     "output_type": "stream",
     "text": [
      " 95%|█████████▌| 60864/64000 [01:06<00:03, 916.04it/s]\n",
      "  0%|          | 46/64000 [00:00<02:19, 457.02it/s]"
     ]
    },
    {
     "name": "stdout",
     "output_type": "stream",
     "text": [
      "Error:  9.99676381978\n",
      "running for alpha=1e-06\n"
     ]
    },
    {
     "name": "stderr",
     "output_type": "stream",
     "text": [
      "100%|██████████| 64000/64000 [01:11<00:00, 889.58it/s]\n"
     ]
    },
    {
     "name": "stdout",
     "output_type": "stream",
     "text": [
      "Error:  912.194453446\n"
     ]
    },
    {
     "data": {
      "image/png": "[encoded data removed]",
      "text/plain": [
       "<matplotlib.figure.Figure at 0x10b4c01d0>"
      ]
     },
     "metadata": {},
     "output_type": "display_data"
    }
   ],
   "source": [
    "N_alpha = 20\n",
    "alphas = np.linspace(1e-6, 1e-2, N_alpha)\n",
    "MAX_EPOCHS = 1000\n",
    "Z = 0.6\n",
    "TH_ERR = 10.0\n",
    "epochs = np.array([])\n",
    "for alpha in alphas[::-1]:\n",
    "    print 'running for alpha={}'.format(alpha)\n",
    "    model = Autoencoder(input_layers=N, z=Z, lr=alpha, w_norm=True, dynamic_lr=False)\n",
    "    best_results = try_run(model, MAX_EPOCHS, th_err=TH_ERR, viz=False)\n",
    "    epochs = np.append(epochs, best_results['epoch'])\n",
    "    print 'Error: ', best_results['min_err']\n",
    "    \n",
    "plt.plot(alphas[::-1], epochs)\n",
    "plt.title('Iterations to achieve error {} with z={}'.format(TH_ERR, Z))\n",
    "plt.xlabel('Alpha')\n",
    "plt.ylabel('Iterations')\n",
    "plt.show()"
   ]
  },
  {
   "cell_type": "markdown",
   "metadata": {},
   "source": [
    "Видно, что без нормировки сходится лучше на больших значениях коэффициента сжатия ($Z \\approx 0.002-0.09$), в то время как нормировка усугубляет этот интервал до $Z \\approx 0.004-0.005$"
   ]
  },
  {
   "cell_type": "markdown",
   "metadata": {},
   "source": [
    "# Выводы\n",
    "\n",
    "Реализована рециркуляционная сеть как модель автокодировщика для задачи понижения размерности данных. Получены следующие результаты:\n",
    "- Алгоритм выполняет меньшее число итераций с увеличением минимальной ошибки\n",
    "- Алгоритм быстрее сходится при хорошо подобранном шаге обучения ($\\approx 0.005$). Адапативный шаг также работает неплохо, но все же при правильно подобранном $\\alpha$ можно добиться лучших результатов/скорости\n",
    "- Применение техник нормирования и адаптивного обучения сокращает число итераций не всегда помогает. Это, в целом, зависит и от начального задания матриц весов\n",
    "- С уменьшением числа входов/выходов уменьшается время работы алгоритма"
   ]
  },
  {
   "cell_type": "code",
   "execution_count": null,
   "metadata": {
    "collapsed": true
   },
   "outputs": [],
   "source": []
  }
 ],
 "metadata": {
  "kernelspec": {
   "display_name": "Python 3",
   "language": "python",
   "name": "python3"
  },
  "language_info": {
   "codemirror_mode": {
    "name": "ipython",
    "version": 3
   },
   "file_extension": ".py",
   "mimetype": "text/x-python",
   "name": "python",
   "nbconvert_exporter": "python",
   "pygments_lexer": "ipython3",
   "version": "3.6.6"
  }
 },
 "nbformat": 4,
 "nbformat_minor": 2
}
