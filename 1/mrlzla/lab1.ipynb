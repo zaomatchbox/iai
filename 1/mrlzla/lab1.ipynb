{
 "cells": [
  {
   "cell_type": "code",
   "execution_count": 1,
   "metadata": {},
   "outputs": [],
   "source": [
    "import numpy as np\n",
    "import os\n",
    "import cv2\n",
    "import random\n",
    "\n",
    "from os.path import join as pjoin\n",
    "from functools import partial\n",
    "from tqdm import tqdm\n",
    "import matplotlib.pyplot as plt"
   ]
  },
  {
   "cell_type": "code",
   "execution_count": 2,
   "metadata": {},
   "outputs": [],
   "source": [
    "def generator(path,\n",
    "              size=256,\n",
    "              crop_size=32,\n",
    "              is_test=False):\n",
    "    image_paths = [pjoin(path, img_path) for img_path in os.listdir(path)]\n",
    "    img_path = random.choice(image_paths)\n",
    "    img = cv2.imread(img_path, 0) #read BGR\n",
    "    img = cv2.resize(img, (size, size))\n",
    "    while 1:\n",
    "        i, j = random.choice(list(range(size//crop_size))), random.choice(list(range(size//crop_size)))\n",
    "        x = img[i*crop_size: (i+1)*crop_size, j*crop_size: (j+1)*crop_size].flatten()\n",
    "        assert(x.shape[0] == (crop_size)**2)\n",
    "        x = 2*x/255 - 1\n",
    "        yield x[np.newaxis, ...]\n",
    "            "
   ]
  },
  {
   "cell_type": "code",
   "execution_count": 3,
   "metadata": {},
   "outputs": [],
   "source": [
    "def generator2(path,\n",
    "              size=256,\n",
    "              crop_size=32,\n",
    "              is_test=False):\n",
    "    images = [cv2.resize(cv2.imread(pjoin(path, img_path), 0), (size, size)) for img_path in tqdm(os.listdir(path))]\n",
    "    while 1:\n",
    "        img = random.choice(images)\n",
    "        i, j = random.choice(list(range(size//crop_size))), random.choice(list(range(size//crop_size)))\n",
    "        x = img[i*crop_size: (i+1)*crop_size, j*crop_size: (j+1)*crop_size].flatten()\n",
    "        x = 2*x/255 - 1\n",
    "        yield x[np.newaxis, ...]"
   ]
  },
  {
   "cell_type": "code",
   "execution_count": 4,
   "metadata": {},
   "outputs": [
    {
     "name": "stdout",
     "output_type": "stream",
     "text": [
      "[[-0.63921569 -0.74901961 -0.84313725 ... -0.54509804 -0.6\n",
      "  -0.48235294]]\n"
     ]
    }
   ],
   "source": [
    "dataset_path = \"VOCdevkit/VOC2012/JPEGImages/\"\n",
    "gen = generator(dataset_path)\n",
    "gen2 = generator2(dataset_path)\n",
    "dataset_size = len(os.listdir(dataset_path))\n",
    "print(next(gen))"
   ]
  },
  {
   "cell_type": "code",
   "execution_count": 5,
   "metadata": {},
   "outputs": [],
   "source": [
    "def glorot_uniform(input_layers, output_layers):\n",
    "    limit = np.sqrt(6 / (input_layers + output_layers))\n",
    "    return partial(np.random.uniform, low=-limit, high=limit)\n",
    "\n",
    "class Autoencoder():\n",
    "    def __init__(self, \n",
    "                 input_layers=1024, \n",
    "                 mid_layers=256,\n",
    "                 lr=5e-5,\n",
    "                 max_err=1000.0,\n",
    "                 phase='train'):\n",
    "        self.input_layers = input_layers\n",
    "        self.mid_layers = mid_layers\n",
    "        self.initializer = glorot_uniform(input_layers, mid_layers)\n",
    "        self.phase=phase\n",
    "        self.lr = lr\n",
    "        self.max_err = max_err\n",
    "        self.loss = lambda x, y: ((x - y) ** 2)\n",
    "        self.build()\n",
    "    \n",
    "    def build(self):\n",
    "        self.W1 = self.initializer(size=[self.input_layers, self.mid_layers])\n",
    "        self.W2 = self.initializer(size=[self.mid_layers, self.input_layers])\n",
    "    \n",
    "    def __call__(self, inp):\n",
    "        mid, res = self.forward(inp)\n",
    "        err = self.loss(inp, res)\n",
    "            \n",
    "        if self.phase == 'train':\n",
    "            if abs(err.mean()) < self.max_err:\n",
    "                self.backward(inp, mid, np.abs(res-inp))\n",
    "                return err.mean()\n",
    "            else:\n",
    "                return self.max_err\n",
    "        else:\n",
    "            return res\n",
    "    \n",
    "    def forward(self, inp):\n",
    "        mid = self.encode(inp)\n",
    "        return mid, self.decode(mid)\n",
    "    \n",
    "    def backward(self, inp, mid, err):\n",
    "        lr = 1/np.dot(mid, mid.T)**2#lr = self.lr\n",
    "        self.W2 -= lr * np.dot(mid.T, err)\n",
    "        lr = 1/np.dot(inp, inp.T)**2#lr = self.lr\n",
    "        self.W1 -= lr * np.dot(np.dot(inp.T, err), self.W2.T)\n",
    "        #self.W2 /= np.linalg.norm(self.W2, axis=0, keepdims=True)\n",
    "        #elf.W1 /= np.linalg.norm(self.W1, axis=1, keepdims=True)\n",
    "        self.W2 /= np.linalg.norm(self.W2)\n",
    "        self.W1 /= np.linalg.norm(self.W1)\n",
    "                          \n",
    "    def encode(self, inp):\n",
    "        return np.dot(inp, self.W1)\n",
    "    \n",
    "    def decode(self, mid):\n",
    "        return np.dot(mid, self.W2)"
   ]
  },
  {
   "cell_type": "code",
   "execution_count": 8,
   "metadata": {},
   "outputs": [
    {
     "name": "stderr",
     "output_type": "stream",
     "text": [
      "100%|██████████| 2500/2500 [00:22<00:00, 109.71it/s]\n"
     ]
    },
    {
     "name": "stdout",
     "output_type": "stream",
     "text": [
      "BEST ERROR 0.04643828355630246\n"
     ]
    },
    {
     "data": {
      "image/png": "[encoded data removed]",
      "text/plain": [
       "<Figure size 432x288 with 1 Axes>"
      ]
     },
     "metadata": {
      "needs_background": "light"
     },
     "output_type": "display_data"
    }
   ],
   "source": [
    "model = Autoencoder()\n",
    "momentum = 0.95\n",
    "errors = []\n",
    "moving_err = None\n",
    "it_count = 2500\n",
    "for it in tqdm(range(it_count)):\n",
    "    inp = next(gen)\n",
    "    err = model(inp)\n",
    "    moving_err = momentum * moving_err + err * (1. - momentum) if moving_err else err\n",
    "    errors.append(moving_err)\n",
    "    #print(\"EPOCH {} MSE {}\".format(it, moving_err))\n",
    "\n",
    "x = np.arange(it_count)\n",
    "plt.plot(x, np.array(errors))\n",
    "idx = np.argmin(errors)\n",
    "print(\"BEST ERROR {}\".format(errors[idx]))\n",
    "plt.plot(x[idx], errors[idx], 'rx--', linewidth=2, markersize=12)\n",
    "plt.show()"
   ]
  },
  {
   "cell_type": "code",
   "execution_count": 10,
   "metadata": {},
   "outputs": [
    {
     "name": "stderr",
     "output_type": "stream",
     "text": [
      " 47%|████▋     | 7983/17125 [01:18<01:29, 101.82it/s]"
     ]
    },
    {
     "ename": "KeyboardInterrupt",
     "evalue": "",
     "output_type": "error",
     "traceback": [
      "\u001b[0;31m---------------------------------------------------------------------------\u001b[0m",
      "\u001b[0;31mKeyboardInterrupt\u001b[0m                         Traceback (most recent call last)",
      "\u001b[0;32m<ipython-input-10-724a0c66ef81>\u001b[0m in \u001b[0;36m<module>\u001b[0;34m\u001b[0m\n\u001b[1;32m      7\u001b[0m     \u001b[0;32mfor\u001b[0m \u001b[0mit\u001b[0m \u001b[0;32min\u001b[0m \u001b[0mtqdm\u001b[0m\u001b[0;34m(\u001b[0m\u001b[0mrange\u001b[0m\u001b[0;34m(\u001b[0m\u001b[0mdataset_size\u001b[0m\u001b[0;34m)\u001b[0m\u001b[0;34m)\u001b[0m\u001b[0;34m:\u001b[0m\u001b[0;34m\u001b[0m\u001b[0m\n\u001b[1;32m      8\u001b[0m         \u001b[0minp\u001b[0m \u001b[0;34m=\u001b[0m \u001b[0mnext\u001b[0m\u001b[0;34m(\u001b[0m\u001b[0mgen2\u001b[0m\u001b[0;34m)\u001b[0m\u001b[0;34m\u001b[0m\u001b[0m\n\u001b[0;32m----> 9\u001b[0;31m         \u001b[0merr\u001b[0m \u001b[0;34m=\u001b[0m \u001b[0mmodel\u001b[0m\u001b[0;34m(\u001b[0m\u001b[0minp\u001b[0m\u001b[0;34m)\u001b[0m\u001b[0;34m\u001b[0m\u001b[0m\n\u001b[0m\u001b[1;32m     10\u001b[0m         \u001b[0mmoving_err\u001b[0m \u001b[0;34m=\u001b[0m \u001b[0mmomentum\u001b[0m \u001b[0;34m*\u001b[0m \u001b[0mmoving_err\u001b[0m \u001b[0;34m+\u001b[0m \u001b[0merr\u001b[0m \u001b[0;34m*\u001b[0m \u001b[0;34m(\u001b[0m\u001b[0;36m1.\u001b[0m \u001b[0;34m-\u001b[0m \u001b[0mmomentum\u001b[0m\u001b[0;34m)\u001b[0m \u001b[0;32mif\u001b[0m \u001b[0mmoving_err\u001b[0m \u001b[0;32melse\u001b[0m \u001b[0merr\u001b[0m\u001b[0;34m\u001b[0m\u001b[0m\n\u001b[1;32m     11\u001b[0m     \u001b[0merrors\u001b[0m\u001b[0;34m.\u001b[0m\u001b[0mappend\u001b[0m\u001b[0;34m(\u001b[0m\u001b[0mmoving_err\u001b[0m\u001b[0;34m)\u001b[0m\u001b[0;34m\u001b[0m\u001b[0m\n",
      "\u001b[0;32m<ipython-input-5-851bce528287>\u001b[0m in \u001b[0;36m__call__\u001b[0;34m(self, inp)\u001b[0m\n\u001b[1;32m     29\u001b[0m         \u001b[0;32mif\u001b[0m \u001b[0mself\u001b[0m\u001b[0;34m.\u001b[0m\u001b[0mphase\u001b[0m \u001b[0;34m==\u001b[0m \u001b[0;34m'train'\u001b[0m\u001b[0;34m:\u001b[0m\u001b[0;34m\u001b[0m\u001b[0m\n\u001b[1;32m     30\u001b[0m             \u001b[0;32mif\u001b[0m \u001b[0mabs\u001b[0m\u001b[0;34m(\u001b[0m\u001b[0merr\u001b[0m\u001b[0;34m.\u001b[0m\u001b[0mmean\u001b[0m\u001b[0;34m(\u001b[0m\u001b[0;34m)\u001b[0m\u001b[0;34m)\u001b[0m \u001b[0;34m<\u001b[0m \u001b[0mself\u001b[0m\u001b[0;34m.\u001b[0m\u001b[0mmax_err\u001b[0m\u001b[0;34m:\u001b[0m\u001b[0;34m\u001b[0m\u001b[0m\n\u001b[0;32m---> 31\u001b[0;31m                 \u001b[0mself\u001b[0m\u001b[0;34m.\u001b[0m\u001b[0mbackward\u001b[0m\u001b[0;34m(\u001b[0m\u001b[0minp\u001b[0m\u001b[0;34m,\u001b[0m \u001b[0mmid\u001b[0m\u001b[0;34m,\u001b[0m \u001b[0mnp\u001b[0m\u001b[0;34m.\u001b[0m\u001b[0mabs\u001b[0m\u001b[0;34m(\u001b[0m\u001b[0mres\u001b[0m\u001b[0;34m-\u001b[0m\u001b[0minp\u001b[0m\u001b[0;34m)\u001b[0m\u001b[0;34m)\u001b[0m\u001b[0;34m\u001b[0m\u001b[0m\n\u001b[0m\u001b[1;32m     32\u001b[0m                 \u001b[0;32mreturn\u001b[0m \u001b[0merr\u001b[0m\u001b[0;34m.\u001b[0m\u001b[0mmean\u001b[0m\u001b[0;34m(\u001b[0m\u001b[0;34m)\u001b[0m\u001b[0;34m\u001b[0m\u001b[0m\n\u001b[1;32m     33\u001b[0m             \u001b[0;32melse\u001b[0m\u001b[0;34m:\u001b[0m\u001b[0;34m\u001b[0m\u001b[0m\n",
      "\u001b[0;32m<ipython-input-5-851bce528287>\u001b[0m in \u001b[0;36mbackward\u001b[0;34m(self, inp, mid, err)\u001b[0m\n\u001b[1;32m     44\u001b[0m         \u001b[0mself\u001b[0m\u001b[0;34m.\u001b[0m\u001b[0mW2\u001b[0m \u001b[0;34m-=\u001b[0m \u001b[0mlr\u001b[0m \u001b[0;34m*\u001b[0m \u001b[0mnp\u001b[0m\u001b[0;34m.\u001b[0m\u001b[0mdot\u001b[0m\u001b[0;34m(\u001b[0m\u001b[0mmid\u001b[0m\u001b[0;34m.\u001b[0m\u001b[0mT\u001b[0m\u001b[0;34m,\u001b[0m \u001b[0merr\u001b[0m\u001b[0;34m)\u001b[0m\u001b[0;34m\u001b[0m\u001b[0m\n\u001b[1;32m     45\u001b[0m         \u001b[0mlr\u001b[0m \u001b[0;34m=\u001b[0m \u001b[0;36m1\u001b[0m\u001b[0;34m/\u001b[0m\u001b[0mnp\u001b[0m\u001b[0;34m.\u001b[0m\u001b[0mdot\u001b[0m\u001b[0;34m(\u001b[0m\u001b[0minp\u001b[0m\u001b[0;34m,\u001b[0m \u001b[0minp\u001b[0m\u001b[0;34m.\u001b[0m\u001b[0mT\u001b[0m\u001b[0;34m)\u001b[0m\u001b[0;34m**\u001b[0m\u001b[0;36m2\u001b[0m\u001b[0;31m#lr = self.lr\u001b[0m\u001b[0;34m\u001b[0m\u001b[0m\n\u001b[0;32m---> 46\u001b[0;31m         \u001b[0mself\u001b[0m\u001b[0;34m.\u001b[0m\u001b[0mW1\u001b[0m \u001b[0;34m-=\u001b[0m \u001b[0mlr\u001b[0m \u001b[0;34m*\u001b[0m \u001b[0mnp\u001b[0m\u001b[0;34m.\u001b[0m\u001b[0mdot\u001b[0m\u001b[0;34m(\u001b[0m\u001b[0mnp\u001b[0m\u001b[0;34m.\u001b[0m\u001b[0mdot\u001b[0m\u001b[0;34m(\u001b[0m\u001b[0minp\u001b[0m\u001b[0;34m.\u001b[0m\u001b[0mT\u001b[0m\u001b[0;34m,\u001b[0m \u001b[0merr\u001b[0m\u001b[0;34m)\u001b[0m\u001b[0;34m,\u001b[0m \u001b[0mself\u001b[0m\u001b[0;34m.\u001b[0m\u001b[0mW2\u001b[0m\u001b[0;34m.\u001b[0m\u001b[0mT\u001b[0m\u001b[0;34m)\u001b[0m\u001b[0;34m\u001b[0m\u001b[0m\n\u001b[0m\u001b[1;32m     47\u001b[0m         \u001b[0;31m#self.W2 /= np.linalg.norm(self.W2, axis=0, keepdims=True)\u001b[0m\u001b[0;34m\u001b[0m\u001b[0;34m\u001b[0m\u001b[0m\n\u001b[1;32m     48\u001b[0m         \u001b[0;31m#elf.W1 /= np.linalg.norm(self.W1, axis=1, keepdims=True)\u001b[0m\u001b[0;34m\u001b[0m\u001b[0;34m\u001b[0m\u001b[0m\n",
      "\u001b[0;31mKeyboardInterrupt\u001b[0m: "
     ]
    }
   ],
   "source": [
    "model = Autoencoder()\n",
    "momentum = 0.95\n",
    "errors = []\n",
    "epochs = 10\n",
    "for epoch in range(epochs):\n",
    "    moving_err = None\n",
    "    for it in tqdm(range(dataset_size)):\n",
    "        inp = next(gen2)\n",
    "        err = model(inp)\n",
    "        moving_err = momentum * moving_err + err * (1. - momentum) if moving_err else err\n",
    "    errors.append(moving_err)\n",
    "    print(\"EPOCH {} MSE {}\".format(epoch, moving_err))\n",
    "\n",
    "x = np.arange(it_count)\n",
    "plt.plot(x, np.array(errors))\n",
    "idx = np.argmin(errors)\n",
    "print(\"BEST ERROR {}\".format(errors[idx]))\n",
    "plt.plot(x[idx], errors[idx], 'rx--', linewidth=2, markersize=12)\n",
    "plt.show()"
   ]
  },
  {
   "cell_type": "code",
   "execution_count": null,
   "metadata": {},
   "outputs": [],
   "source": []
  },
  {
   "cell_type": "code",
   "execution_count": null,
   "metadata": {},
   "outputs": [],
   "source": []
  }
 ],
 "metadata": {
  "kernelspec": {
   "display_name": "Python 3",
   "language": "python",
   "name": "python3"
  },
  "language_info": {
   "codemirror_mode": {
    "name": "ipython",
    "version": 3
   },
   "file_extension": ".py",
   "mimetype": "text/x-python",
   "name": "python",
   "nbconvert_exporter": "python",
   "pygments_lexer": "ipython3",
   "version": "3.7.0"
  }
 },
 "nbformat": 4,
 "nbformat_minor": 2
}
